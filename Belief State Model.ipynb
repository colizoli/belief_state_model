{
 "cells": [
  {
   "cell_type": "markdown",
   "metadata": {},
   "source": [
    "# Model predictions - Colizoli, de Gee, Urai & Donner"
   ]
  },
  {
   "cell_type": "markdown",
   "metadata": {},
   "source": [
    "#### Import necessary packages from Python"
   ]
  },
  {
   "cell_type": "code",
   "execution_count": 167,
   "metadata": {
    "collapsed": true
   },
   "outputs": [],
   "source": [
    "import numpy as np\n",
    "import pandas as pd\n",
    "import matplotlib\n",
    "import matplotlib.pyplot as plt\n",
    "%matplotlib notebook\n",
    "import seaborn as sns"
   ]
  },
  {
   "cell_type": "markdown",
   "metadata": {},
   "source": [
    "#### Set parameters for plotting"
   ]
  },
  {
   "cell_type": "code",
   "execution_count": 168,
   "metadata": {
    "collapsed": false
   },
   "outputs": [
    {
     "data": {
      "text/plain": [
       "{'axes.labelsize': 7.0,\n",
       " 'axes.titlesize': 7.0,\n",
       " 'figure.figsize': [8.0, 5.5],\n",
       " 'font.size': 12.0,\n",
       " 'grid.linewidth': 1.0,\n",
       " 'legend.fontsize': 6.0,\n",
       " 'lines.linewidth': 1.75,\n",
       " 'lines.markeredgewidth': 0.0,\n",
       " 'lines.markersize': 7.0,\n",
       " 'patch.linewidth': 0.3,\n",
       " 'xtick.labelsize': 6.0,\n",
       " 'xtick.major.pad': 7.0,\n",
       " 'xtick.major.width': 1.0,\n",
       " 'xtick.minor.width': 0.5,\n",
       " 'ytick.labelsize': 6.0,\n",
       " 'ytick.major.pad': 7.0,\n",
       " 'ytick.major.width': 1.0,\n",
       " 'ytick.minor.width': 0.5}"
      ]
     },
     "execution_count": 168,
     "metadata": {},
     "output_type": "execute_result"
    }
   ],
   "source": [
    "matplotlib.rcParams['pdf.fonttype'] = 42\n",
    "matplotlib.rcParams['ps.fonttype'] = 42\n",
    "sns.set(style='ticks', font='Arial', font_scale=1, rc={\n",
    "    'axes.linewidth': 1,\n",
    "    'axes.labelsize': 7, \n",
    "    'axes.titlesize': 7,\n",
    "    'xtick.labelsize': 6,\n",
    "    'ytick.labelsize': 6,\n",
    "    'legend.fontsize': 6,\n",
    "    'xtick.major.width': 1,\n",
    "    'ytick.major.width': 1,\n",
    "    'text.color': 'Black',\n",
    "    'axes.labelcolor':'Black',\n",
    "    'xtick.color':'Black',\n",
    "    'ytick.color':'Black',} )\n",
    "sns.plotting_context()"
   ]
  },
  {
   "cell_type": "markdown",
   "metadata": {},
   "source": [
    "## Signal Detection Theory - competing model predictions"
   ]
  },
  {
   "cell_type": "markdown",
   "metadata": {},
   "source": [
    "#### Sigma is the noise in the data"
   ]
  },
  {
   "cell_type": "code",
   "execution_count": 169,
   "metadata": {
    "collapsed": false
   },
   "outputs": [
    {
     "name": "stdout",
     "output_type": "stream",
     "text": [
      "sigma\n",
      "0.13333333333333333\n"
     ]
    }
   ],
   "source": [
    "# sigma = self.get_sigma() # 2.7 Anne's data\n",
    "sigma = 1/7.5 \n",
    "print('sigma')\n",
    "print(sigma)"
   ]
  },
  {
   "cell_type": "markdown",
   "metadata": {},
   "source": [
    "#### Generate 'stimuli' - values of motion coherence moving either up or down [1 or -1]"
   ]
  },
  {
   "cell_type": "code",
   "execution_count": 170,
   "metadata": {
    "collapsed": true
   },
   "outputs": [],
   "source": [
    "model_coh = np.arange(-.5,.5,0.01) # extreme values of motion coherence, 1=100% coherent motion      \n",
    "model_evs = np.repeat(model_coh, 10000) # repeat each coherence value 10000 times"
   ]
  },
  {
   "cell_type": "markdown",
   "metadata": {},
   "source": [
    "#### The internal decision variable, dv, is a 'noisy' version of the stimuli"
   ]
  },
  {
   "cell_type": "code",
   "execution_count": 171,
   "metadata": {
    "collapsed": true
   },
   "outputs": [],
   "source": [
    "model_dvs = model_evs + np.random.normal(0, sigma, len(model_evs)) # add noise to the decision variable"
   ]
  },
  {
   "cell_type": "markdown",
   "metadata": {},
   "source": [
    "#### The choice on each trial is the sign of the noisy decision variable"
   ]
  },
  {
   "cell_type": "code",
   "execution_count": 172,
   "metadata": {
    "collapsed": true
   },
   "outputs": [],
   "source": [
    "model_choice = np.sign(model_dvs) # the choice is the sign of the dv, up or down\n",
    "model_correct = model_choice == np.sign(model_evs) # correct choice when sign dv = sign of ev"
   ]
  },
  {
   "cell_type": "markdown",
   "metadata": {},
   "source": [
    "#### Equation (3) transforms the dv to the probability of a correct response based on the noise in the data"
   ]
  },
  {
   "cell_type": "code",
   "execution_count": 173,
   "metadata": {
    "collapsed": true
   },
   "outputs": [],
   "source": [
    "def dv2conf(x,sigma):\n",
    "    from scipy.special import erf\n",
    "    return 0.5 * (1 + erf(np.abs(x) / (np.sqrt(2)*sigma)))"
   ]
  },
  {
   "cell_type": "markdown",
   "metadata": {},
   "source": [
    "#### The difference in the two models is here: whether confidence is a function of the external or internal decision variable"
   ]
  },
  {
   "cell_type": "code",
   "execution_count": 174,
   "metadata": {
    "collapsed": true
   },
   "outputs": [],
   "source": [
    "model_confidence_belief = dv2conf(model_dvs,sigma); # model 1\n",
    "model_confidence = dv2conf(model_evs,sigma); # alternative model"
   ]
  },
  {
   "cell_type": "markdown",
   "metadata": {},
   "source": [
    "#### Define the feedback and prediction error for each model"
   ]
  },
  {
   "cell_type": "code",
   "execution_count": 175,
   "metadata": {
    "collapsed": true
   },
   "outputs": [],
   "source": [
    "model_feedback = model_correct; # feedback = 0 or 1\n",
    "model_rpe_belief = model_feedback - model_confidence_belief; # belief state model\n",
    "model_rpe = model_feedback - model_confidence; # traditional model"
   ]
  },
  {
   "cell_type": "markdown",
   "metadata": {},
   "source": [
    "#### Save model predictions"
   ]
  },
  {
   "cell_type": "code",
   "execution_count": 176,
   "metadata": {
    "collapsed": true
   },
   "outputs": [],
   "source": [
    "model_levels_dvs = np.abs(model_dvs) # collapse across up/down directions, because difficulty is orthogonal to direction\n",
    "\n",
    "model1 = pd.DataFrame() # belief state model\n",
    "model1['evs'] = model_evs\n",
    "model1['dvs'] = model_dvs\n",
    "model1['ev_levels'] = np.abs(model_evs) \n",
    "model1['correct'] = model_correct\n",
    "model1['confidence'] = model_confidence_belief\n",
    "model1['uncertainty'] = 1 - model_confidence_belief\n",
    "model1['pe'] = model_rpe_belief\n",
    "model1['pe_inv'] = 1 - model_rpe_belief\n",
    "\n",
    "model2 = pd.DataFrame() # traditional model\n",
    "model2['evs'] = model_evs\n",
    "model2['dvs'] = model_dvs\n",
    "model2['ev_levels'] = np.abs(model_evs) \n",
    "model2['correct'] = model_correct\n",
    "model2['confidence'] = model_confidence\n",
    "model2['uncertainty'] = 1 - model_confidence\n",
    "model2['pe'] = model_rpe\n",
    "model2['pe_inv'] = 1 - model_rpe\n",
    "\n",
    "# model1.to_csv('model1.csv') # uncomment to save model predictions as CSV files\n",
    "# model2.to_csv('model2.csv')"
   ]
  },
  {
   "cell_type": "markdown",
   "metadata": {},
   "source": [
    "## Plot model predictions"
   ]
  },
  {
   "cell_type": "markdown",
   "metadata": {},
   "source": [
    "#### Choose which direction to plot - confidence or uncertainty? (Comment out what you don't want)"
   ]
  },
  {
   "cell_type": "code",
   "execution_count": null,
   "metadata": {
    "collapsed": true
   },
   "outputs": [],
   "source": [
    "## CONFIDENCE\n",
    "# decision_dv = 'confidence'\n",
    "# feedback_dv = 'pe'\n",
    "## y lims\n",
    "# dec = [0.5,1]\n",
    "# feed = [-1,1]\n",
    "# inter = [-0.5,0.5]"
   ]
  },
  {
   "cell_type": "code",
   "execution_count": 177,
   "metadata": {
    "collapsed": true
   },
   "outputs": [],
   "source": [
    "## UNCERTAINTY\n",
    "decision_dv = 'uncertainty'\n",
    "feedback_dv = 'pe_inv'\n",
    "## y lims\n",
    "dec = [0,0.5]\n",
    "feed = [0,2]\n",
    "inter = [-0.5,0.5]"
   ]
  },
  {
   "cell_type": "markdown",
   "metadata": {},
   "source": [
    "#### Set number of bins"
   ]
  },
  {
   "cell_type": "code",
   "execution_count": 178,
   "metadata": {
    "collapsed": true
   },
   "outputs": [],
   "source": [
    "nbins = 10\n",
    "bin_labels = range(1,nbins+1)"
   ]
  },
  {
   "cell_type": "markdown",
   "metadata": {},
   "source": [
    "#### Group predictions by stimulus/coherence levels and accuracy"
   ]
  },
  {
   "cell_type": "code",
   "execution_count": 179,
   "metadata": {
    "collapsed": false
   },
   "outputs": [],
   "source": [
    "m1_dec = model1.groupby(['ev_levels','correct'])[decision_dv].mean()\n",
    "m2_dec = model2.groupby(['ev_levels','correct'])[decision_dv].mean()\n",
    "\n",
    "m1_feed = model1.groupby(['ev_levels','correct'])[feedback_dv].mean()\n",
    "m2_feed = model2.groupby(['ev_levels','correct'])[feedback_dv].mean()\n",
    "\n",
    "m1_dec = m1_dec.reset_index() # resets indices to accessible columns\n",
    "m2_dec = m2_dec.reset_index()\n",
    "m1_feed = m1_feed.reset_index()\n",
    "m2_feed = m2_feed.reset_index()"
   ]
  },
  {
   "cell_type": "markdown",
   "metadata": {},
   "source": [
    "### Plotting"
   ]
  },
  {
   "cell_type": "markdown",
   "metadata": {},
   "source": [
    "#### Define a figure (2 x 3 panels)"
   ]
  },
  {
   "cell_type": "code",
   "execution_count": 180,
   "metadata": {
    "collapsed": false
   },
   "outputs": [
    {
     "data": {
      "application/javascript": [
       "/* Put everything inside the global mpl namespace */\n",
       "window.mpl = {};\n",
       "\n",
       "\n",
       "mpl.get_websocket_type = function() {\n",
       "    if (typeof(WebSocket) !== 'undefined') {\n",
       "        return WebSocket;\n",
       "    } else if (typeof(MozWebSocket) !== 'undefined') {\n",
       "        return MozWebSocket;\n",
       "    } else {\n",
       "        alert('Your browser does not have WebSocket support.' +\n",
       "              'Please try Chrome, Safari or Firefox ≥ 6. ' +\n",
       "              'Firefox 4 and 5 are also supported but you ' +\n",
       "              'have to enable WebSockets in about:config.');\n",
       "    };\n",
       "}\n",
       "\n",
       "mpl.figure = function(figure_id, websocket, ondownload, parent_element) {\n",
       "    this.id = figure_id;\n",
       "\n",
       "    this.ws = websocket;\n",
       "\n",
       "    this.supports_binary = (this.ws.binaryType != undefined);\n",
       "\n",
       "    if (!this.supports_binary) {\n",
       "        var warnings = document.getElementById(\"mpl-warnings\");\n",
       "        if (warnings) {\n",
       "            warnings.style.display = 'block';\n",
       "            warnings.textContent = (\n",
       "                \"This browser does not support binary websocket messages. \" +\n",
       "                    \"Performance may be slow.\");\n",
       "        }\n",
       "    }\n",
       "\n",
       "    this.imageObj = new Image();\n",
       "\n",
       "    this.context = undefined;\n",
       "    this.message = undefined;\n",
       "    this.canvas = undefined;\n",
       "    this.rubberband_canvas = undefined;\n",
       "    this.rubberband_context = undefined;\n",
       "    this.format_dropdown = undefined;\n",
       "\n",
       "    this.image_mode = 'full';\n",
       "\n",
       "    this.root = $('<div/>');\n",
       "    this._root_extra_style(this.root)\n",
       "    this.root.attr('style', 'display: inline-block');\n",
       "\n",
       "    $(parent_element).append(this.root);\n",
       "\n",
       "    this._init_header(this);\n",
       "    this._init_canvas(this);\n",
       "    this._init_toolbar(this);\n",
       "\n",
       "    var fig = this;\n",
       "\n",
       "    this.waiting = false;\n",
       "\n",
       "    this.ws.onopen =  function () {\n",
       "            fig.send_message(\"supports_binary\", {value: fig.supports_binary});\n",
       "            fig.send_message(\"send_image_mode\", {});\n",
       "            if (mpl.ratio != 1) {\n",
       "                fig.send_message(\"set_dpi_ratio\", {'dpi_ratio': mpl.ratio});\n",
       "            }\n",
       "            fig.send_message(\"refresh\", {});\n",
       "        }\n",
       "\n",
       "    this.imageObj.onload = function() {\n",
       "            if (fig.image_mode == 'full') {\n",
       "                // Full images could contain transparency (where diff images\n",
       "                // almost always do), so we need to clear the canvas so that\n",
       "                // there is no ghosting.\n",
       "                fig.context.clearRect(0, 0, fig.canvas.width, fig.canvas.height);\n",
       "            }\n",
       "            fig.context.drawImage(fig.imageObj, 0, 0);\n",
       "        };\n",
       "\n",
       "    this.imageObj.onunload = function() {\n",
       "        this.ws.close();\n",
       "    }\n",
       "\n",
       "    this.ws.onmessage = this._make_on_message_function(this);\n",
       "\n",
       "    this.ondownload = ondownload;\n",
       "}\n",
       "\n",
       "mpl.figure.prototype._init_header = function() {\n",
       "    var titlebar = $(\n",
       "        '<div class=\"ui-dialog-titlebar ui-widget-header ui-corner-all ' +\n",
       "        'ui-helper-clearfix\"/>');\n",
       "    var titletext = $(\n",
       "        '<div class=\"ui-dialog-title\" style=\"width: 100%; ' +\n",
       "        'text-align: center; padding: 3px;\"/>');\n",
       "    titlebar.append(titletext)\n",
       "    this.root.append(titlebar);\n",
       "    this.header = titletext[0];\n",
       "}\n",
       "\n",
       "\n",
       "\n",
       "mpl.figure.prototype._canvas_extra_style = function(canvas_div) {\n",
       "\n",
       "}\n",
       "\n",
       "\n",
       "mpl.figure.prototype._root_extra_style = function(canvas_div) {\n",
       "\n",
       "}\n",
       "\n",
       "mpl.figure.prototype._init_canvas = function() {\n",
       "    var fig = this;\n",
       "\n",
       "    var canvas_div = $('<div/>');\n",
       "\n",
       "    canvas_div.attr('style', 'position: relative; clear: both; outline: 0');\n",
       "\n",
       "    function canvas_keyboard_event(event) {\n",
       "        return fig.key_event(event, event['data']);\n",
       "    }\n",
       "\n",
       "    canvas_div.keydown('key_press', canvas_keyboard_event);\n",
       "    canvas_div.keyup('key_release', canvas_keyboard_event);\n",
       "    this.canvas_div = canvas_div\n",
       "    this._canvas_extra_style(canvas_div)\n",
       "    this.root.append(canvas_div);\n",
       "\n",
       "    var canvas = $('<canvas/>');\n",
       "    canvas.addClass('mpl-canvas');\n",
       "    canvas.attr('style', \"left: 0; top: 0; z-index: 0; outline: 0\")\n",
       "\n",
       "    this.canvas = canvas[0];\n",
       "    this.context = canvas[0].getContext(\"2d\");\n",
       "\n",
       "    var backingStore = this.context.backingStorePixelRatio ||\n",
       "\tthis.context.webkitBackingStorePixelRatio ||\n",
       "\tthis.context.mozBackingStorePixelRatio ||\n",
       "\tthis.context.msBackingStorePixelRatio ||\n",
       "\tthis.context.oBackingStorePixelRatio ||\n",
       "\tthis.context.backingStorePixelRatio || 1;\n",
       "\n",
       "    mpl.ratio = (window.devicePixelRatio || 1) / backingStore;\n",
       "\n",
       "    var rubberband = $('<canvas/>');\n",
       "    rubberband.attr('style', \"position: absolute; left: 0; top: 0; z-index: 1;\")\n",
       "\n",
       "    var pass_mouse_events = true;\n",
       "\n",
       "    canvas_div.resizable({\n",
       "        start: function(event, ui) {\n",
       "            pass_mouse_events = false;\n",
       "        },\n",
       "        resize: function(event, ui) {\n",
       "            fig.request_resize(ui.size.width, ui.size.height);\n",
       "        },\n",
       "        stop: function(event, ui) {\n",
       "            pass_mouse_events = true;\n",
       "            fig.request_resize(ui.size.width, ui.size.height);\n",
       "        },\n",
       "    });\n",
       "\n",
       "    function mouse_event_fn(event) {\n",
       "        if (pass_mouse_events)\n",
       "            return fig.mouse_event(event, event['data']);\n",
       "    }\n",
       "\n",
       "    rubberband.mousedown('button_press', mouse_event_fn);\n",
       "    rubberband.mouseup('button_release', mouse_event_fn);\n",
       "    // Throttle sequential mouse events to 1 every 20ms.\n",
       "    rubberband.mousemove('motion_notify', mouse_event_fn);\n",
       "\n",
       "    rubberband.mouseenter('figure_enter', mouse_event_fn);\n",
       "    rubberband.mouseleave('figure_leave', mouse_event_fn);\n",
       "\n",
       "    canvas_div.on(\"wheel\", function (event) {\n",
       "        event = event.originalEvent;\n",
       "        event['data'] = 'scroll'\n",
       "        if (event.deltaY < 0) {\n",
       "            event.step = 1;\n",
       "        } else {\n",
       "            event.step = -1;\n",
       "        }\n",
       "        mouse_event_fn(event);\n",
       "    });\n",
       "\n",
       "    canvas_div.append(canvas);\n",
       "    canvas_div.append(rubberband);\n",
       "\n",
       "    this.rubberband = rubberband;\n",
       "    this.rubberband_canvas = rubberband[0];\n",
       "    this.rubberband_context = rubberband[0].getContext(\"2d\");\n",
       "    this.rubberband_context.strokeStyle = \"#000000\";\n",
       "\n",
       "    this._resize_canvas = function(width, height) {\n",
       "        // Keep the size of the canvas, canvas container, and rubber band\n",
       "        // canvas in synch.\n",
       "        canvas_div.css('width', width)\n",
       "        canvas_div.css('height', height)\n",
       "\n",
       "        canvas.attr('width', width * mpl.ratio);\n",
       "        canvas.attr('height', height * mpl.ratio);\n",
       "        canvas.attr('style', 'width: ' + width + 'px; height: ' + height + 'px;');\n",
       "\n",
       "        rubberband.attr('width', width);\n",
       "        rubberband.attr('height', height);\n",
       "    }\n",
       "\n",
       "    // Set the figure to an initial 600x600px, this will subsequently be updated\n",
       "    // upon first draw.\n",
       "    this._resize_canvas(600, 600);\n",
       "\n",
       "    // Disable right mouse context menu.\n",
       "    $(this.rubberband_canvas).bind(\"contextmenu\",function(e){\n",
       "        return false;\n",
       "    });\n",
       "\n",
       "    function set_focus () {\n",
       "        canvas.focus();\n",
       "        canvas_div.focus();\n",
       "    }\n",
       "\n",
       "    window.setTimeout(set_focus, 100);\n",
       "}\n",
       "\n",
       "mpl.figure.prototype._init_toolbar = function() {\n",
       "    var fig = this;\n",
       "\n",
       "    var nav_element = $('<div/>')\n",
       "    nav_element.attr('style', 'width: 100%');\n",
       "    this.root.append(nav_element);\n",
       "\n",
       "    // Define a callback function for later on.\n",
       "    function toolbar_event(event) {\n",
       "        return fig.toolbar_button_onclick(event['data']);\n",
       "    }\n",
       "    function toolbar_mouse_event(event) {\n",
       "        return fig.toolbar_button_onmouseover(event['data']);\n",
       "    }\n",
       "\n",
       "    for(var toolbar_ind in mpl.toolbar_items) {\n",
       "        var name = mpl.toolbar_items[toolbar_ind][0];\n",
       "        var tooltip = mpl.toolbar_items[toolbar_ind][1];\n",
       "        var image = mpl.toolbar_items[toolbar_ind][2];\n",
       "        var method_name = mpl.toolbar_items[toolbar_ind][3];\n",
       "\n",
       "        if (!name) {\n",
       "            // put a spacer in here.\n",
       "            continue;\n",
       "        }\n",
       "        var button = $('<button/>');\n",
       "        button.addClass('ui-button ui-widget ui-state-default ui-corner-all ' +\n",
       "                        'ui-button-icon-only');\n",
       "        button.attr('role', 'button');\n",
       "        button.attr('aria-disabled', 'false');\n",
       "        button.click(method_name, toolbar_event);\n",
       "        button.mouseover(tooltip, toolbar_mouse_event);\n",
       "\n",
       "        var icon_img = $('<span/>');\n",
       "        icon_img.addClass('ui-button-icon-primary ui-icon');\n",
       "        icon_img.addClass(image);\n",
       "        icon_img.addClass('ui-corner-all');\n",
       "\n",
       "        var tooltip_span = $('<span/>');\n",
       "        tooltip_span.addClass('ui-button-text');\n",
       "        tooltip_span.html(tooltip);\n",
       "\n",
       "        button.append(icon_img);\n",
       "        button.append(tooltip_span);\n",
       "\n",
       "        nav_element.append(button);\n",
       "    }\n",
       "\n",
       "    var fmt_picker_span = $('<span/>');\n",
       "\n",
       "    var fmt_picker = $('<select/>');\n",
       "    fmt_picker.addClass('mpl-toolbar-option ui-widget ui-widget-content');\n",
       "    fmt_picker_span.append(fmt_picker);\n",
       "    nav_element.append(fmt_picker_span);\n",
       "    this.format_dropdown = fmt_picker[0];\n",
       "\n",
       "    for (var ind in mpl.extensions) {\n",
       "        var fmt = mpl.extensions[ind];\n",
       "        var option = $(\n",
       "            '<option/>', {selected: fmt === mpl.default_extension}).html(fmt);\n",
       "        fmt_picker.append(option)\n",
       "    }\n",
       "\n",
       "    // Add hover states to the ui-buttons\n",
       "    $( \".ui-button\" ).hover(\n",
       "        function() { $(this).addClass(\"ui-state-hover\");},\n",
       "        function() { $(this).removeClass(\"ui-state-hover\");}\n",
       "    );\n",
       "\n",
       "    var status_bar = $('<span class=\"mpl-message\"/>');\n",
       "    nav_element.append(status_bar);\n",
       "    this.message = status_bar[0];\n",
       "}\n",
       "\n",
       "mpl.figure.prototype.request_resize = function(x_pixels, y_pixels) {\n",
       "    // Request matplotlib to resize the figure. Matplotlib will then trigger a resize in the client,\n",
       "    // which will in turn request a refresh of the image.\n",
       "    this.send_message('resize', {'width': x_pixels, 'height': y_pixels});\n",
       "}\n",
       "\n",
       "mpl.figure.prototype.send_message = function(type, properties) {\n",
       "    properties['type'] = type;\n",
       "    properties['figure_id'] = this.id;\n",
       "    this.ws.send(JSON.stringify(properties));\n",
       "}\n",
       "\n",
       "mpl.figure.prototype.send_draw_message = function() {\n",
       "    if (!this.waiting) {\n",
       "        this.waiting = true;\n",
       "        this.ws.send(JSON.stringify({type: \"draw\", figure_id: this.id}));\n",
       "    }\n",
       "}\n",
       "\n",
       "\n",
       "mpl.figure.prototype.handle_save = function(fig, msg) {\n",
       "    var format_dropdown = fig.format_dropdown;\n",
       "    var format = format_dropdown.options[format_dropdown.selectedIndex].value;\n",
       "    fig.ondownload(fig, format);\n",
       "}\n",
       "\n",
       "\n",
       "mpl.figure.prototype.handle_resize = function(fig, msg) {\n",
       "    var size = msg['size'];\n",
       "    if (size[0] != fig.canvas.width || size[1] != fig.canvas.height) {\n",
       "        fig._resize_canvas(size[0], size[1]);\n",
       "        fig.send_message(\"refresh\", {});\n",
       "    };\n",
       "}\n",
       "\n",
       "mpl.figure.prototype.handle_rubberband = function(fig, msg) {\n",
       "    var x0 = msg['x0'] / mpl.ratio;\n",
       "    var y0 = (fig.canvas.height - msg['y0']) / mpl.ratio;\n",
       "    var x1 = msg['x1'] / mpl.ratio;\n",
       "    var y1 = (fig.canvas.height - msg['y1']) / mpl.ratio;\n",
       "    x0 = Math.floor(x0) + 0.5;\n",
       "    y0 = Math.floor(y0) + 0.5;\n",
       "    x1 = Math.floor(x1) + 0.5;\n",
       "    y1 = Math.floor(y1) + 0.5;\n",
       "    var min_x = Math.min(x0, x1);\n",
       "    var min_y = Math.min(y0, y1);\n",
       "    var width = Math.abs(x1 - x0);\n",
       "    var height = Math.abs(y1 - y0);\n",
       "\n",
       "    fig.rubberband_context.clearRect(\n",
       "        0, 0, fig.canvas.width, fig.canvas.height);\n",
       "\n",
       "    fig.rubberband_context.strokeRect(min_x, min_y, width, height);\n",
       "}\n",
       "\n",
       "mpl.figure.prototype.handle_figure_label = function(fig, msg) {\n",
       "    // Updates the figure title.\n",
       "    fig.header.textContent = msg['label'];\n",
       "}\n",
       "\n",
       "mpl.figure.prototype.handle_cursor = function(fig, msg) {\n",
       "    var cursor = msg['cursor'];\n",
       "    switch(cursor)\n",
       "    {\n",
       "    case 0:\n",
       "        cursor = 'pointer';\n",
       "        break;\n",
       "    case 1:\n",
       "        cursor = 'default';\n",
       "        break;\n",
       "    case 2:\n",
       "        cursor = 'crosshair';\n",
       "        break;\n",
       "    case 3:\n",
       "        cursor = 'move';\n",
       "        break;\n",
       "    }\n",
       "    fig.rubberband_canvas.style.cursor = cursor;\n",
       "}\n",
       "\n",
       "mpl.figure.prototype.handle_message = function(fig, msg) {\n",
       "    fig.message.textContent = msg['message'];\n",
       "}\n",
       "\n",
       "mpl.figure.prototype.handle_draw = function(fig, msg) {\n",
       "    // Request the server to send over a new figure.\n",
       "    fig.send_draw_message();\n",
       "}\n",
       "\n",
       "mpl.figure.prototype.handle_image_mode = function(fig, msg) {\n",
       "    fig.image_mode = msg['mode'];\n",
       "}\n",
       "\n",
       "mpl.figure.prototype.updated_canvas_event = function() {\n",
       "    // Called whenever the canvas gets updated.\n",
       "    this.send_message(\"ack\", {});\n",
       "}\n",
       "\n",
       "// A function to construct a web socket function for onmessage handling.\n",
       "// Called in the figure constructor.\n",
       "mpl.figure.prototype._make_on_message_function = function(fig) {\n",
       "    return function socket_on_message(evt) {\n",
       "        if (evt.data instanceof Blob) {\n",
       "            /* FIXME: We get \"Resource interpreted as Image but\n",
       "             * transferred with MIME type text/plain:\" errors on\n",
       "             * Chrome.  But how to set the MIME type?  It doesn't seem\n",
       "             * to be part of the websocket stream */\n",
       "            evt.data.type = \"image/png\";\n",
       "\n",
       "            /* Free the memory for the previous frames */\n",
       "            if (fig.imageObj.src) {\n",
       "                (window.URL || window.webkitURL).revokeObjectURL(\n",
       "                    fig.imageObj.src);\n",
       "            }\n",
       "\n",
       "            fig.imageObj.src = (window.URL || window.webkitURL).createObjectURL(\n",
       "                evt.data);\n",
       "            fig.updated_canvas_event();\n",
       "            fig.waiting = false;\n",
       "            return;\n",
       "        }\n",
       "        else if (typeof evt.data === 'string' && evt.data.slice(0, 21) == \"data:image/png;base64\") {\n",
       "            fig.imageObj.src = evt.data;\n",
       "            fig.updated_canvas_event();\n",
       "            fig.waiting = false;\n",
       "            return;\n",
       "        }\n",
       "\n",
       "        var msg = JSON.parse(evt.data);\n",
       "        var msg_type = msg['type'];\n",
       "\n",
       "        // Call the  \"handle_{type}\" callback, which takes\n",
       "        // the figure and JSON message as its only arguments.\n",
       "        try {\n",
       "            var callback = fig[\"handle_\" + msg_type];\n",
       "        } catch (e) {\n",
       "            console.log(\"No handler for the '\" + msg_type + \"' message type: \", msg);\n",
       "            return;\n",
       "        }\n",
       "\n",
       "        if (callback) {\n",
       "            try {\n",
       "                // console.log(\"Handling '\" + msg_type + \"' message: \", msg);\n",
       "                callback(fig, msg);\n",
       "            } catch (e) {\n",
       "                console.log(\"Exception inside the 'handler_\" + msg_type + \"' callback:\", e, e.stack, msg);\n",
       "            }\n",
       "        }\n",
       "    };\n",
       "}\n",
       "\n",
       "// from http://stackoverflow.com/questions/1114465/getting-mouse-location-in-canvas\n",
       "mpl.findpos = function(e) {\n",
       "    //this section is from http://www.quirksmode.org/js/events_properties.html\n",
       "    var targ;\n",
       "    if (!e)\n",
       "        e = window.event;\n",
       "    if (e.target)\n",
       "        targ = e.target;\n",
       "    else if (e.srcElement)\n",
       "        targ = e.srcElement;\n",
       "    if (targ.nodeType == 3) // defeat Safari bug\n",
       "        targ = targ.parentNode;\n",
       "\n",
       "    // jQuery normalizes the pageX and pageY\n",
       "    // pageX,Y are the mouse positions relative to the document\n",
       "    // offset() returns the position of the element relative to the document\n",
       "    var x = e.pageX - $(targ).offset().left;\n",
       "    var y = e.pageY - $(targ).offset().top;\n",
       "\n",
       "    return {\"x\": x, \"y\": y};\n",
       "};\n",
       "\n",
       "/*\n",
       " * return a copy of an object with only non-object keys\n",
       " * we need this to avoid circular references\n",
       " * http://stackoverflow.com/a/24161582/3208463\n",
       " */\n",
       "function simpleKeys (original) {\n",
       "  return Object.keys(original).reduce(function (obj, key) {\n",
       "    if (typeof original[key] !== 'object')\n",
       "        obj[key] = original[key]\n",
       "    return obj;\n",
       "  }, {});\n",
       "}\n",
       "\n",
       "mpl.figure.prototype.mouse_event = function(event, name) {\n",
       "    var canvas_pos = mpl.findpos(event)\n",
       "\n",
       "    if (name === 'button_press')\n",
       "    {\n",
       "        this.canvas.focus();\n",
       "        this.canvas_div.focus();\n",
       "    }\n",
       "\n",
       "    var x = canvas_pos.x * mpl.ratio;\n",
       "    var y = canvas_pos.y * mpl.ratio;\n",
       "\n",
       "    this.send_message(name, {x: x, y: y, button: event.button,\n",
       "                             step: event.step,\n",
       "                             guiEvent: simpleKeys(event)});\n",
       "\n",
       "    /* This prevents the web browser from automatically changing to\n",
       "     * the text insertion cursor when the button is pressed.  We want\n",
       "     * to control all of the cursor setting manually through the\n",
       "     * 'cursor' event from matplotlib */\n",
       "    event.preventDefault();\n",
       "    return false;\n",
       "}\n",
       "\n",
       "mpl.figure.prototype._key_event_extra = function(event, name) {\n",
       "    // Handle any extra behaviour associated with a key event\n",
       "}\n",
       "\n",
       "mpl.figure.prototype.key_event = function(event, name) {\n",
       "\n",
       "    // Prevent repeat events\n",
       "    if (name == 'key_press')\n",
       "    {\n",
       "        if (event.which === this._key)\n",
       "            return;\n",
       "        else\n",
       "            this._key = event.which;\n",
       "    }\n",
       "    if (name == 'key_release')\n",
       "        this._key = null;\n",
       "\n",
       "    var value = '';\n",
       "    if (event.ctrlKey && event.which != 17)\n",
       "        value += \"ctrl+\";\n",
       "    if (event.altKey && event.which != 18)\n",
       "        value += \"alt+\";\n",
       "    if (event.shiftKey && event.which != 16)\n",
       "        value += \"shift+\";\n",
       "\n",
       "    value += 'k';\n",
       "    value += event.which.toString();\n",
       "\n",
       "    this._key_event_extra(event, name);\n",
       "\n",
       "    this.send_message(name, {key: value,\n",
       "                             guiEvent: simpleKeys(event)});\n",
       "    return false;\n",
       "}\n",
       "\n",
       "mpl.figure.prototype.toolbar_button_onclick = function(name) {\n",
       "    if (name == 'download') {\n",
       "        this.handle_save(this, null);\n",
       "    } else {\n",
       "        this.send_message(\"toolbar_button\", {name: name});\n",
       "    }\n",
       "};\n",
       "\n",
       "mpl.figure.prototype.toolbar_button_onmouseover = function(tooltip) {\n",
       "    this.message.textContent = tooltip;\n",
       "};\n",
       "mpl.toolbar_items = [[\"Home\", \"Reset original view\", \"fa fa-home icon-home\", \"home\"], [\"Back\", \"Back to  previous view\", \"fa fa-arrow-left icon-arrow-left\", \"back\"], [\"Forward\", \"Forward to next view\", \"fa fa-arrow-right icon-arrow-right\", \"forward\"], [\"\", \"\", \"\", \"\"], [\"Pan\", \"Pan axes with left mouse, zoom with right\", \"fa fa-arrows icon-move\", \"pan\"], [\"Zoom\", \"Zoom to rectangle\", \"fa fa-square-o icon-check-empty\", \"zoom\"], [\"\", \"\", \"\", \"\"], [\"Download\", \"Download plot\", \"fa fa-floppy-o icon-save\", \"download\"]];\n",
       "\n",
       "mpl.extensions = [\"eps\", \"jpeg\", \"pdf\", \"png\", \"ps\", \"raw\", \"svg\", \"tif\"];\n",
       "\n",
       "mpl.default_extension = \"png\";var comm_websocket_adapter = function(comm) {\n",
       "    // Create a \"websocket\"-like object which calls the given IPython comm\n",
       "    // object with the appropriate methods. Currently this is a non binary\n",
       "    // socket, so there is still some room for performance tuning.\n",
       "    var ws = {};\n",
       "\n",
       "    ws.close = function() {\n",
       "        comm.close()\n",
       "    };\n",
       "    ws.send = function(m) {\n",
       "        //console.log('sending', m);\n",
       "        comm.send(m);\n",
       "    };\n",
       "    // Register the callback with on_msg.\n",
       "    comm.on_msg(function(msg) {\n",
       "        //console.log('receiving', msg['content']['data'], msg);\n",
       "        // Pass the mpl event to the overriden (by mpl) onmessage function.\n",
       "        ws.onmessage(msg['content']['data'])\n",
       "    });\n",
       "    return ws;\n",
       "}\n",
       "\n",
       "mpl.mpl_figure_comm = function(comm, msg) {\n",
       "    // This is the function which gets called when the mpl process\n",
       "    // starts-up an IPython Comm through the \"matplotlib\" channel.\n",
       "\n",
       "    var id = msg.content.data.id;\n",
       "    // Get hold of the div created by the display call when the Comm\n",
       "    // socket was opened in Python.\n",
       "    var element = $(\"#\" + id);\n",
       "    var ws_proxy = comm_websocket_adapter(comm)\n",
       "\n",
       "    function ondownload(figure, format) {\n",
       "        window.open(figure.imageObj.src);\n",
       "    }\n",
       "\n",
       "    var fig = new mpl.figure(id, ws_proxy,\n",
       "                           ondownload,\n",
       "                           element.get(0));\n",
       "\n",
       "    // Call onopen now - mpl needs it, as it is assuming we've passed it a real\n",
       "    // web socket which is closed, not our websocket->open comm proxy.\n",
       "    ws_proxy.onopen();\n",
       "\n",
       "    fig.parent_element = element.get(0);\n",
       "    fig.cell_info = mpl.find_output_cell(\"<div id='\" + id + \"'></div>\");\n",
       "    if (!fig.cell_info) {\n",
       "        console.error(\"Failed to find cell for figure\", id, fig);\n",
       "        return;\n",
       "    }\n",
       "\n",
       "    var output_index = fig.cell_info[2]\n",
       "    var cell = fig.cell_info[0];\n",
       "\n",
       "};\n",
       "\n",
       "mpl.figure.prototype.handle_close = function(fig, msg) {\n",
       "    var width = fig.canvas.width/mpl.ratio\n",
       "    fig.root.unbind('remove')\n",
       "\n",
       "    // Update the output cell to use the data from the current canvas.\n",
       "    fig.push_to_output();\n",
       "    var dataURL = fig.canvas.toDataURL();\n",
       "    // Re-enable the keyboard manager in IPython - without this line, in FF,\n",
       "    // the notebook keyboard shortcuts fail.\n",
       "    IPython.keyboard_manager.enable()\n",
       "    $(fig.parent_element).html('<img src=\"' + dataURL + '\" width=\"' + width + '\">');\n",
       "    fig.close_ws(fig, msg);\n",
       "}\n",
       "\n",
       "mpl.figure.prototype.close_ws = function(fig, msg){\n",
       "    fig.send_message('closing', msg);\n",
       "    // fig.ws.close()\n",
       "}\n",
       "\n",
       "mpl.figure.prototype.push_to_output = function(remove_interactive) {\n",
       "    // Turn the data on the canvas into data in the output cell.\n",
       "    var width = this.canvas.width/mpl.ratio\n",
       "    var dataURL = this.canvas.toDataURL();\n",
       "    this.cell_info[1]['text/html'] = '<img src=\"' + dataURL + '\" width=\"' + width + '\">';\n",
       "}\n",
       "\n",
       "mpl.figure.prototype.updated_canvas_event = function() {\n",
       "    // Tell IPython that the notebook contents must change.\n",
       "    IPython.notebook.set_dirty(true);\n",
       "    this.send_message(\"ack\", {});\n",
       "    var fig = this;\n",
       "    // Wait a second, then push the new image to the DOM so\n",
       "    // that it is saved nicely (might be nice to debounce this).\n",
       "    setTimeout(function () { fig.push_to_output() }, 1000);\n",
       "}\n",
       "\n",
       "mpl.figure.prototype._init_toolbar = function() {\n",
       "    var fig = this;\n",
       "\n",
       "    var nav_element = $('<div/>')\n",
       "    nav_element.attr('style', 'width: 100%');\n",
       "    this.root.append(nav_element);\n",
       "\n",
       "    // Define a callback function for later on.\n",
       "    function toolbar_event(event) {\n",
       "        return fig.toolbar_button_onclick(event['data']);\n",
       "    }\n",
       "    function toolbar_mouse_event(event) {\n",
       "        return fig.toolbar_button_onmouseover(event['data']);\n",
       "    }\n",
       "\n",
       "    for(var toolbar_ind in mpl.toolbar_items){\n",
       "        var name = mpl.toolbar_items[toolbar_ind][0];\n",
       "        var tooltip = mpl.toolbar_items[toolbar_ind][1];\n",
       "        var image = mpl.toolbar_items[toolbar_ind][2];\n",
       "        var method_name = mpl.toolbar_items[toolbar_ind][3];\n",
       "\n",
       "        if (!name) { continue; };\n",
       "\n",
       "        var button = $('<button class=\"btn btn-default\" href=\"#\" title=\"' + name + '\"><i class=\"fa ' + image + ' fa-lg\"></i></button>');\n",
       "        button.click(method_name, toolbar_event);\n",
       "        button.mouseover(tooltip, toolbar_mouse_event);\n",
       "        nav_element.append(button);\n",
       "    }\n",
       "\n",
       "    // Add the status bar.\n",
       "    var status_bar = $('<span class=\"mpl-message\" style=\"text-align:right; float: right;\"/>');\n",
       "    nav_element.append(status_bar);\n",
       "    this.message = status_bar[0];\n",
       "\n",
       "    // Add the close button to the window.\n",
       "    var buttongrp = $('<div class=\"btn-group inline pull-right\"></div>');\n",
       "    var button = $('<button class=\"btn btn-mini btn-primary\" href=\"#\" title=\"Stop Interaction\"><i class=\"fa fa-power-off icon-remove icon-large\"></i></button>');\n",
       "    button.click(function (evt) { fig.handle_close(fig, {}); } );\n",
       "    button.mouseover('Stop Interaction', toolbar_mouse_event);\n",
       "    buttongrp.append(button);\n",
       "    var titlebar = this.root.find($('.ui-dialog-titlebar'));\n",
       "    titlebar.prepend(buttongrp);\n",
       "}\n",
       "\n",
       "mpl.figure.prototype._root_extra_style = function(el){\n",
       "    var fig = this\n",
       "    el.on(\"remove\", function(){\n",
       "\tfig.close_ws(fig, {});\n",
       "    });\n",
       "}\n",
       "\n",
       "mpl.figure.prototype._canvas_extra_style = function(el){\n",
       "    // this is important to make the div 'focusable\n",
       "    el.attr('tabindex', 0)\n",
       "    // reach out to IPython and tell the keyboard manager to turn it's self\n",
       "    // off when our div gets focus\n",
       "\n",
       "    // location in version 3\n",
       "    if (IPython.notebook.keyboard_manager) {\n",
       "        IPython.notebook.keyboard_manager.register_events(el);\n",
       "    }\n",
       "    else {\n",
       "        // location in version 2\n",
       "        IPython.keyboard_manager.register_events(el);\n",
       "    }\n",
       "\n",
       "}\n",
       "\n",
       "mpl.figure.prototype._key_event_extra = function(event, name) {\n",
       "    var manager = IPython.notebook.keyboard_manager;\n",
       "    if (!manager)\n",
       "        manager = IPython.keyboard_manager;\n",
       "\n",
       "    // Check for shift+enter\n",
       "    if (event.shiftKey && event.which == 13) {\n",
       "        this.canvas_div.blur();\n",
       "        // select the cell after this one\n",
       "        var index = IPython.notebook.find_cell_index(this.cell_info[0]);\n",
       "        IPython.notebook.select(index + 1);\n",
       "    }\n",
       "}\n",
       "\n",
       "mpl.figure.prototype.handle_save = function(fig, msg) {\n",
       "    fig.ondownload(fig, null);\n",
       "}\n",
       "\n",
       "\n",
       "mpl.find_output_cell = function(html_output) {\n",
       "    // Return the cell and output element which can be found *uniquely* in the notebook.\n",
       "    // Note - this is a bit hacky, but it is done because the \"notebook_saving.Notebook\"\n",
       "    // IPython event is triggered only after the cells have been serialised, which for\n",
       "    // our purposes (turning an active figure into a static one), is too late.\n",
       "    var cells = IPython.notebook.get_cells();\n",
       "    var ncells = cells.length;\n",
       "    for (var i=0; i<ncells; i++) {\n",
       "        var cell = cells[i];\n",
       "        if (cell.cell_type === 'code'){\n",
       "            for (var j=0; j<cell.output_area.outputs.length; j++) {\n",
       "                var data = cell.output_area.outputs[j];\n",
       "                if (data.data) {\n",
       "                    // IPython >= 3 moved mimebundle to data attribute of output\n",
       "                    data = data.data;\n",
       "                }\n",
       "                if (data['text/html'] == html_output) {\n",
       "                    return [cell, data, j];\n",
       "                }\n",
       "            }\n",
       "        }\n",
       "    }\n",
       "}\n",
       "\n",
       "// Register the function which deals with the matplotlib target/channel.\n",
       "// The kernel may be null if the page has been refreshed.\n",
       "if (IPython.notebook.kernel != null) {\n",
       "    IPython.notebook.kernel.comm_manager.register_target('matplotlib', mpl.mpl_figure_comm);\n",
       "}\n"
      ],
      "text/plain": [
       "<IPython.core.display.Javascript object>"
      ]
     },
     "metadata": {},
     "output_type": "display_data"
    },
    {
     "data": {
      "text/html": [
       "<img src=\"data:image/png;base64,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\" width=\"432\">"
      ],
      "text/plain": [
       "<IPython.core.display.HTML object>"
      ]
     },
     "metadata": {},
     "output_type": "display_data"
    }
   ],
   "source": [
    "fig = plt.figure(figsize=(6,4))\n",
    "        \n",
    "# for interaction plots\n",
    "ind = [0.3,0.5]\n",
    "xlim = [0.275,0.575]\n",
    "\n",
    "# get xlabels and color scheme for two conditions\n",
    "ls = 'interact' # corresponding to lines\n",
    "leg_label = ['Decision','Feedback']\n",
    "colors = ['blue','purple']\n",
    "alphas = [1,1]\n",
    "xticklabels = ['Decision','Feedback'] # for interaction"
   ]
  },
  {
   "cell_type": "markdown",
   "metadata": {},
   "source": [
    "#### Belief State Model - Decision interval (subplot 1)"
   ]
  },
  {
   "cell_type": "code",
   "execution_count": 181,
   "metadata": {
    "collapsed": false
   },
   "outputs": [
    {
     "data": {
      "text/plain": [
       "<matplotlib.text.Text at 0x11d788128>"
      ]
     },
     "execution_count": 181,
     "metadata": {},
     "output_type": "execute_result"
    }
   ],
   "source": [
    "ax = fig.add_subplot(231)\n",
    "        \n",
    "# Make equal size bins for the error trials (correct==False)\n",
    "# Average coherence and confidence in each bin\n",
    "valuelist = [False]\n",
    "F = m1_dec[m1_dec.correct.isin(valuelist)] # ev_levels that have errors\n",
    "valueList = np.array(F['ev_levels'])\n",
    "T =  m1_dec[m1_dec['correct']] # only true values\n",
    "T = T[T.ev_levels.isin(valueList)] # get only those ev_levels that are in m1_dec_F\n",
    "\n",
    "F = F.reset_index() \n",
    "T = T.reset_index() \n",
    "\n",
    "# Error\n",
    "bins_F = pd.qcut(F['ev_levels'], nbins, labels=bin_labels, retbins=True) \n",
    "F['bins'] = np.array(bins_F[0]) # tupel, get first element out\n",
    "F_binned = F.groupby(['bins'])['ev_levels', decision_dv].mean()\n",
    "\n",
    "# Correct\n",
    "bins_T = pd.qcut(T['ev_levels'], nbins, labels=bin_labels, retbins=True) \n",
    "T['bins'] = np.array(bins_T[0]) # tupel, get first element out\n",
    "T_binned = T.groupby(['bins'])['ev_levels', decision_dv].mean()\n",
    "\n",
    "# Save for interaction plot\n",
    "easy_error_dec = F_binned.iloc[-1,-1] # last level, confidence/pe\n",
    "hard_error_dec = F_binned.iloc[0,-1] # first level, confidence/pe\n",
    "easy_correct_dec = T_binned.iloc[-1,-1] # last level, confidence/pe\n",
    "hard_correct_dec = T_binned.iloc[0,-1] # first level, confidence/pe\n",
    "\n",
    "### LINE GRAPH ###        \n",
    "ax.plot(T_binned['ev_levels'],T_binned[decision_dv], label='Correct', color='green', alpha=1)\n",
    "ax.plot(F_binned['ev_levels'],F_binned[decision_dv], label='Error', color='red', alpha=1)\n",
    "\n",
    "# Subplot parameters\n",
    "ax.set_ylim(dec)\n",
    "ax.legend(loc='best', fontsize=4)\n",
    "ax.set_ylabel('Decision uncertainty')\n",
    "ax.set_xlabel('Coherence')\n",
    "ax.set_title('Belief State Model')\n"
   ]
  },
  {
   "cell_type": "markdown",
   "metadata": {},
   "source": [
    "#### Belief State Model - Feedback interval (subplot 2)"
   ]
  },
  {
   "cell_type": "code",
   "execution_count": 182,
   "metadata": {
    "collapsed": false
   },
   "outputs": [
    {
     "data": {
      "text/plain": [
       "<matplotlib.text.Text at 0x11e7ee908>"
      ]
     },
     "execution_count": 182,
     "metadata": {},
     "output_type": "execute_result"
    }
   ],
   "source": [
    "ax = fig.add_subplot(232)\n",
    "\n",
    "# Make equal size bins for the error trials (correct==False)\n",
    "# Average coherence and confidence in each bin\n",
    "valuelist = [False]\n",
    "F = m1_feed[m1_feed.correct.isin(valuelist)] # ev_levels that have errors\n",
    "valueList = np.array(F['ev_levels'])\n",
    "T =  m1_feed[m1_feed['correct']] # only true values\n",
    "T = T[T.ev_levels.isin(valueList)] # get only those ev_levels that are in m1_dec_F\n",
    "\n",
    "F = F.reset_index() \n",
    "T = T.reset_index() \n",
    "\n",
    "# Error\n",
    "bins_F = pd.qcut(F['ev_levels'], nbins, labels=bin_labels, retbins=True) \n",
    "F['bins'] = np.array(bins_F[0]) # tupel, get first element out\n",
    "F_binned = F.groupby(['bins'])['ev_levels', feedback_dv].mean()\n",
    "\n",
    "# Correct\n",
    "bins_T = pd.qcut(T['ev_levels'], nbins, labels=bin_labels, retbins=True) \n",
    "T['bins'] = np.array(bins_T[0]) # tupel, get first element out\n",
    "T_binned = T.groupby(['bins'])['ev_levels', feedback_dv].mean()\n",
    "\n",
    "# save for interaction plot\n",
    "easy_error_feed = F_binned.iloc[-1,-1] # last level, confidence/pe\n",
    "hard_error_feed = F_binned.iloc[0,-1] # first level, confidence/pe\n",
    "easy_correct_feed = T_binned.iloc[-1,-1] # last level, confidence/pe\n",
    "hard_correct_feed = T_binned.iloc[0,-1] # first level, confidence/pe\n",
    "\n",
    "### LINE GRAPH ###        \n",
    "ax.plot(T_binned['ev_levels'],T_binned[feedback_dv], label='Correct', color='green', alpha=1)\n",
    "ax.plot(F_binned['ev_levels'],F_binned[feedback_dv], label='Error', color='red', alpha=1)\n",
    "\n",
    "# Subplot parameters\n",
    "ax.set_ylim(feed)\n",
    "ax.legend(loc='best', fontsize=4)\n",
    "ax.set_ylabel('Prediction error')\n",
    "ax.set_xlabel('Coherence')\n",
    "ax.set_title('Belief State Model')"
   ]
  },
  {
   "cell_type": "markdown",
   "metadata": {},
   "source": [
    "#### Belief State Model - Interaction (subplot 3)"
   ]
  },
  {
   "cell_type": "code",
   "execution_count": 183,
   "metadata": {
    "collapsed": false
   },
   "outputs": [
    {
     "data": {
      "text/plain": [
       "<matplotlib.lines.Line2D at 0x11ad301d0>"
      ]
     },
     "execution_count": 183,
     "metadata": {},
     "output_type": "execute_result"
    }
   ],
   "source": [
    "ax = fig.add_subplot(233)\n",
    "                \n",
    "easy_error_dec = np.round(easy_error_dec,2) # round to 2 decimal places\n",
    "hard_error_dec = np.round(hard_error_dec,2)\n",
    "easy_correct_dec = np.round(easy_correct_dec,2)\n",
    "hard_correct_dec = np.round(hard_correct_dec,2)\n",
    "\n",
    "easy_error_feed = np.round(easy_error_feed,2)\n",
    "hard_error_feed = np.round(hard_error_feed,2)\n",
    "easy_correct_feed = np.round(easy_correct_feed,2)\n",
    "hard_correct_feed = np.round(hard_correct_feed,2)\n",
    "\n",
    "interaction_decision = (easy_error_dec - easy_correct_dec) - (hard_error_dec - hard_correct_dec)\n",
    "interaction_feed = (easy_error_feed - easy_correct_feed) - (hard_error_feed - hard_correct_feed)\n",
    "\n",
    "MEANS = [interaction_decision,interaction_feed]\n",
    "\n",
    "for x,m in enumerate(MEANS):\n",
    "    ax.plot(ind[x],MEANS[x], marker='o', color=colors[x], label=leg_label[x], alpha=alphas[x])\n",
    "\n",
    "# Subplot parameters\n",
    "ax.set_xticks(ind)\n",
    "ax.set_ylim(inter)\n",
    "ax.set_xticklabels(xticklabels)\n",
    "ax.legend([])\n",
    "ax.set_ylabel('Interaction term')\n",
    "ax.set_title('Belief State Model')\n",
    "ax.axhline(0, lw=1, alpha=1, color = 'k') # Add horizontal line at t=0"
   ]
  },
  {
   "cell_type": "markdown",
   "metadata": {},
   "source": [
    "#### Traditional Model - Decision interval (subplot 4)"
   ]
  },
  {
   "cell_type": "code",
   "execution_count": 184,
   "metadata": {
    "collapsed": false
   },
   "outputs": [
    {
     "data": {
      "text/plain": [
       "<matplotlib.text.Text at 0x11ada03c8>"
      ]
     },
     "execution_count": 184,
     "metadata": {},
     "output_type": "execute_result"
    }
   ],
   "source": [
    "ax = fig.add_subplot(234)\n",
    "\n",
    "# Make equal size bins for the error trials (correct==False)\n",
    "# Average coherence and confidence in each bin\n",
    "valuelist = [False]\n",
    "F = m2_dec[m2_dec.correct.isin(valuelist)] # ev_levels that have errors\n",
    "valueList = np.array(F['ev_levels'])\n",
    "T =  m2_dec[m2_dec['correct']] # only true values\n",
    "T = T[T.ev_levels.isin(valueList)] # get only those ev_levels that are in m1_dec_F\n",
    "\n",
    "F = F.reset_index() \n",
    "T = T.reset_index() \n",
    "\n",
    "# Error\n",
    "bins_F = pd.qcut(F['ev_levels'], nbins, labels=bin_labels, retbins=True) \n",
    "F['bins'] = np.array(bins_F[0]) # tupel, get first element out\n",
    "F_binned = F.groupby(['bins'])['ev_levels', decision_dv].mean()\n",
    "\n",
    "# Correct\n",
    "bins_T = pd.qcut(T['ev_levels'], nbins, labels=bin_labels, retbins=True) \n",
    "T['bins'] = np.array(bins_T[0]) # tupel, get first element out\n",
    "T_binned = T.groupby(['bins'])['ev_levels', decision_dv].mean()\n",
    "\n",
    "# Save for interaction plot\n",
    "easy_error_dec = F_binned.iloc[-1,-1] # last level, confidence/pe\n",
    "hard_error_dec = F_binned.iloc[0,-1] # first level, confidence/pe\n",
    "easy_correct_dec = T_binned.iloc[-1,-1] # last level, confidence/pe\n",
    "hard_correct_dec = T_binned.iloc[0,-1] # first level, confidence/pe\n",
    "\n",
    "### LINE GRAPH ###        \n",
    "ax.plot(T_binned['ev_levels'],T_binned[decision_dv], label='Correct', color='green', alpha=1)\n",
    "ax.plot(F_binned['ev_levels'],F_binned[decision_dv], label='Error', color='red', alpha=1)\n",
    "\n",
    "# Subplot parameters\n",
    "ax.set_ylim(dec)\n",
    "ax.legend(loc='best', fontsize=4)\n",
    "ax.set_ylabel('Decision uncertainty')\n",
    "ax.set_xlabel('Coherence')\n",
    "ax.set_title('Traditional Model')"
   ]
  },
  {
   "cell_type": "markdown",
   "metadata": {},
   "source": [
    "#### Traditional Model - Feedback interval (subplot 5)"
   ]
  },
  {
   "cell_type": "code",
   "execution_count": 185,
   "metadata": {
    "collapsed": false
   },
   "outputs": [
    {
     "data": {
      "text/plain": [
       "<matplotlib.text.Text at 0x11b03d0f0>"
      ]
     },
     "execution_count": 185,
     "metadata": {},
     "output_type": "execute_result"
    }
   ],
   "source": [
    "ax = fig.add_subplot(235)\n",
    "\n",
    "# Make equal size bins for the error trials (correct==False)\n",
    "# Average coherence and confidence in each bin\n",
    "valuelist = [False]\n",
    "F = m2_feed[m2_feed.correct.isin(valuelist)] # ev_levels that have errors\n",
    "valueList = np.array(F['ev_levels'])\n",
    "T =  m2_feed[m2_feed['correct']] # only true values\n",
    "T = T[T.ev_levels.isin(valueList)] # get only those ev_levels that are in m1_dec_F\n",
    "\n",
    "F = F.reset_index() \n",
    "T = T.reset_index() \n",
    "\n",
    "# Error\n",
    "bins_F = pd.qcut(F['ev_levels'], nbins, labels=bin_labels, retbins=True) \n",
    "F['bins'] = np.array(bins_F[0]) # tupel, get first element out\n",
    "F_binned = F.groupby(['bins'])['ev_levels', feedback_dv].mean()\n",
    "\n",
    "# Correct\n",
    "bins_T = pd.qcut(T['ev_levels'], nbins, labels=bin_labels, retbins=True) \n",
    "T['bins'] = np.array(bins_T[0]) # tupel, get first element out\n",
    "T_binned = T.groupby(['bins'])['ev_levels', feedback_dv].mean()\n",
    "\n",
    "# Save for interaction plot\n",
    "easy_error_feed = F_binned.iloc[-1,-1] # last level, confidence/pe\n",
    "hard_error_feed = F_binned.iloc[0,-1] # first level, confidence/pe\n",
    "easy_correct_feed = T_binned.iloc[-1,-1] # last level, confidence/pe\n",
    "hard_correct_feed = T_binned.iloc[0,-1] # first level, confidence/pe\n",
    "\n",
    "### LINE GRAPH ###        \n",
    "ax.plot(T_binned['ev_levels'],T_binned[feedback_dv], label='Correct', color='green', alpha=1)\n",
    "ax.plot(F_binned['ev_levels'],F_binned[feedback_dv], label='Error', color='red', alpha=1)\n",
    "\n",
    "# Subplot parameters\n",
    "ax.set_ylim(feed)\n",
    "ax.legend(loc='best', fontsize=4)\n",
    "ax.set_ylabel('Prediction error')\n",
    "ax.set_xlabel('Coherence')\n",
    "ax.set_title('Traditional Model')"
   ]
  },
  {
   "cell_type": "markdown",
   "metadata": {},
   "source": [
    "#### Traditional Model - Interaction (subplot 6)"
   ]
  },
  {
   "cell_type": "code",
   "execution_count": 186,
   "metadata": {
    "collapsed": false
   },
   "outputs": [
    {
     "data": {
      "text/plain": [
       "<matplotlib.lines.Line2D at 0x11b0ba780>"
      ]
     },
     "execution_count": 186,
     "metadata": {},
     "output_type": "execute_result"
    }
   ],
   "source": [
    "ax = fig.add_subplot(236)\n",
    "\n",
    "easy_error_dec = np.round(easy_error_dec,2)\n",
    "hard_error_dec = np.round(hard_error_dec,2)\n",
    "easy_correct_dec = np.round(easy_correct_dec,2)\n",
    "hard_correct_dec = np.round(hard_correct_dec,2)\n",
    "\n",
    "easy_error_feed = np.round(easy_error_feed,2)\n",
    "hard_error_feed = np.round(hard_error_feed,2)\n",
    "easy_correct_feed = np.round(easy_correct_feed,2)\n",
    "hard_correct_feed = np.round(hard_correct_feed,2)\n",
    "\n",
    "interaction_decision = (easy_error_dec - easy_correct_dec) - (hard_error_dec - hard_correct_dec)\n",
    "interaction_feed = (easy_error_feed - easy_correct_feed) - (hard_error_feed - hard_correct_feed)\n",
    "\n",
    "MEANS = [interaction_decision,interaction_feed]\n",
    "\n",
    "for x,m in enumerate(MEANS):\n",
    "    ax.plot(ind[x],MEANS[x], marker='o', color=colors[x], label=leg_label[x], alpha=alphas[x])\n",
    "\n",
    "# Subplot parameters\n",
    "ax.set_xticks(ind)\n",
    "ax.set_ylim(inter)\n",
    "ax.set_xticklabels(xticklabels)\n",
    "ax.legend([])\n",
    "ax.set_ylabel('Interaction term')\n",
    "ax.set_title('Traditional Model')\n",
    "ax.axhline(0, lw=1, alpha=1, color = 'k') # Add horizontal line at t=0"
   ]
  },
  {
   "cell_type": "markdown",
   "metadata": {
    "collapsed": true
   },
   "source": [
    "### Competing Model Predictions"
   ]
  },
  {
   "cell_type": "code",
   "execution_count": 188,
   "metadata": {
    "collapsed": true
   },
   "outputs": [],
   "source": [
    "plt.show()"
   ]
  },
  {
   "cell_type": "markdown",
   "metadata": {},
   "source": [
    "#### Save figure"
   ]
  },
  {
   "cell_type": "code",
   "execution_count": 189,
   "metadata": {
    "collapsed": false
   },
   "outputs": [],
   "source": [
    "sns.despine(offset=10, trim=True)\n",
    "plt.tight_layout()\n",
    "fig.savefig('model_predictions.pdf')"
   ]
  }
 ],
 "metadata": {
  "kernelspec": {
   "display_name": "Python 3",
   "language": "python",
   "name": "python3"
  },
  "language_info": {
   "codemirror_mode": {
    "name": "ipython",
    "version": 3
   },
   "file_extension": ".py",
   "mimetype": "text/x-python",
   "name": "python",
   "nbconvert_exporter": "python",
   "pygments_lexer": "ipython3",
   "version": "3.6.0"
  }
 },
 "nbformat": 4,
 "nbformat_minor": 2
}
