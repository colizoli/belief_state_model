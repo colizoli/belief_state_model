{
 "cells": [
  {
   "cell_type": "markdown",
   "metadata": {},
   "source": [
    "# Model predictions - Colizoli, de Gee, Urai & Donner"
   ]
  },
  {
   "cell_type": "markdown",
   "metadata": {},
   "source": [
    "#### Import necessary packages from Python"
   ]
  },
  {
   "cell_type": "code",
   "execution_count": 23,
   "metadata": {
    "collapsed": true
   },
   "outputs": [],
   "source": [
    "import numpy as np\n",
    "import pandas as pd\n",
    "import matplotlib\n",
    "import matplotlib.pyplot as plt\n",
    "%matplotlib notebook\n",
    "import seaborn as sns"
   ]
  },
  {
   "cell_type": "markdown",
   "metadata": {},
   "source": [
    "#### Set parameters for plotting"
   ]
  },
  {
   "cell_type": "code",
   "execution_count": 24,
   "metadata": {
    "collapsed": false
   },
   "outputs": [
    {
     "data": {
      "text/plain": [
       "{'axes.labelsize': 7.0,\n",
       " 'axes.titlesize': 7.0,\n",
       " 'figure.figsize': [8.0, 5.5],\n",
       " 'font.size': 12.0,\n",
       " 'grid.linewidth': 1.0,\n",
       " 'legend.fontsize': 6.0,\n",
       " 'lines.linewidth': 1.75,\n",
       " 'lines.markeredgewidth': 0.0,\n",
       " 'lines.markersize': 7.0,\n",
       " 'patch.linewidth': 0.3,\n",
       " 'xtick.labelsize': 6.0,\n",
       " 'xtick.major.pad': 7.0,\n",
       " 'xtick.major.width': 1.0,\n",
       " 'xtick.minor.width': 0.5,\n",
       " 'ytick.labelsize': 6.0,\n",
       " 'ytick.major.pad': 7.0,\n",
       " 'ytick.major.width': 1.0,\n",
       " 'ytick.minor.width': 0.5}"
      ]
     },
     "execution_count": 24,
     "metadata": {},
     "output_type": "execute_result"
    }
   ],
   "source": [
    "matplotlib.rcParams['pdf.fonttype'] = 42\n",
    "matplotlib.rcParams['ps.fonttype'] = 42\n",
    "sns.set(style='ticks', font='Arial', font_scale=1, rc={\n",
    "    'axes.linewidth': 1,\n",
    "    'axes.labelsize': 7, \n",
    "    'axes.titlesize': 7,\n",
    "    'xtick.labelsize': 6,\n",
    "    'ytick.labelsize': 6,\n",
    "    'legend.fontsize': 6,\n",
    "    'xtick.major.width': 1,\n",
    "    'ytick.major.width': 1,\n",
    "    'text.color': 'Black',\n",
    "    'axes.labelcolor':'Black',\n",
    "    'xtick.color':'Black',\n",
    "    'ytick.color':'Black',} )\n",
    "sns.plotting_context()"
   ]
  },
  {
   "cell_type": "markdown",
   "metadata": {},
   "source": [
    "## Signal Detection Theory - competing model predictions"
   ]
  },
  {
   "cell_type": "markdown",
   "metadata": {},
   "source": [
    "#### Sigma is the noise in the data"
   ]
  },
  {
   "cell_type": "code",
   "execution_count": 25,
   "metadata": {
    "collapsed": false
   },
   "outputs": [],
   "source": [
    "# see Estimate Sigma in this repository\n",
    "sigma = 1/7.5 "
   ]
  },
  {
   "cell_type": "markdown",
   "metadata": {},
   "source": [
    "#### Generate 'stimuli' - values of motion coherence moving either up or down [1 or -1]"
   ]
  },
  {
   "cell_type": "code",
   "execution_count": 26,
   "metadata": {
    "collapsed": true
   },
   "outputs": [],
   "source": [
    "model_coh = np.arange(-.5,.5,0.01) # extreme values of motion coherence, 1=100% coherent motion      \n",
    "model_evs = np.repeat(model_coh, 10000) # repeat each coherence value 10000 times"
   ]
  },
  {
   "cell_type": "markdown",
   "metadata": {},
   "source": [
    "#### The internal decision variable, dv, is a 'noisy' version of the stimuli"
   ]
  },
  {
   "cell_type": "code",
   "execution_count": 27,
   "metadata": {
    "collapsed": true
   },
   "outputs": [],
   "source": [
    "model_dvs = model_evs + np.random.normal(0, sigma, len(model_evs)) # add noise to the decision variable"
   ]
  },
  {
   "cell_type": "markdown",
   "metadata": {},
   "source": [
    "#### The choice on each trial is the sign of the noisy decision variable"
   ]
  },
  {
   "cell_type": "code",
   "execution_count": 28,
   "metadata": {
    "collapsed": true
   },
   "outputs": [],
   "source": [
    "model_choice = np.sign(model_dvs) # the choice is the sign of the dv, up or down\n",
    "model_correct = model_choice == np.sign(model_evs) # correct choice when sign dv = sign of ev"
   ]
  },
  {
   "cell_type": "markdown",
   "metadata": {},
   "source": [
    "#### Equation (3) transforms the dv to the probability of a correct response based on the noise in the data"
   ]
  },
  {
   "cell_type": "code",
   "execution_count": 29,
   "metadata": {
    "collapsed": true
   },
   "outputs": [],
   "source": [
    "def dv2conf(x,sigma):\n",
    "    from scipy.special import erf\n",
    "    return 0.5 * (1 + erf(np.abs(x) / (np.sqrt(2)*sigma)))"
   ]
  },
  {
   "cell_type": "markdown",
   "metadata": {},
   "source": [
    "#### The difference in the two models is here: whether confidence is a function of the external or internal decision variable"
   ]
  },
  {
   "cell_type": "code",
   "execution_count": 30,
   "metadata": {
    "collapsed": true
   },
   "outputs": [],
   "source": [
    "model_confidence_belief = dv2conf(model_dvs,sigma); # model 1\n",
    "model_confidence = dv2conf(model_evs,sigma); # alternative model"
   ]
  },
  {
   "cell_type": "markdown",
   "metadata": {},
   "source": [
    "#### Define the feedback and prediction error for each model"
   ]
  },
  {
   "cell_type": "code",
   "execution_count": 31,
   "metadata": {
    "collapsed": true
   },
   "outputs": [],
   "source": [
    "model_feedback = model_correct; # feedback = 0 or 1\n",
    "model_rpe_belief = model_feedback - model_confidence_belief; # belief state model\n",
    "model_rpe = model_feedback - model_confidence; # traditional model"
   ]
  },
  {
   "cell_type": "markdown",
   "metadata": {},
   "source": [
    "#### Save model predictions"
   ]
  },
  {
   "cell_type": "code",
   "execution_count": 32,
   "metadata": {
    "collapsed": true
   },
   "outputs": [],
   "source": [
    "model_levels_dvs = np.abs(model_dvs) # collapse across up/down directions, because difficulty is orthogonal to direction\n",
    "\n",
    "model1 = pd.DataFrame() # belief state model\n",
    "model1['evs'] = model_evs\n",
    "model1['dvs'] = model_dvs\n",
    "model1['ev_levels'] = np.abs(model_evs) \n",
    "model1['correct'] = model_correct\n",
    "model1['confidence'] = model_confidence_belief\n",
    "model1['uncertainty'] = 1 - model_confidence_belief\n",
    "model1['pe'] = model_rpe_belief\n",
    "model1['pe_inv'] = 1 - model_rpe_belief\n",
    "\n",
    "model2 = pd.DataFrame() # traditional model\n",
    "model2['evs'] = model_evs\n",
    "model2['dvs'] = model_dvs\n",
    "model2['ev_levels'] = np.abs(model_evs) \n",
    "model2['correct'] = model_correct\n",
    "model2['confidence'] = model_confidence\n",
    "model2['uncertainty'] = 1 - model_confidence\n",
    "model2['pe'] = model_rpe\n",
    "model2['pe_inv'] = 1 - model_rpe\n",
    "\n",
    "# model1.to_csv('model1.csv') # uncomment to save model predictions as CSV files\n",
    "# model2.to_csv('model2.csv')"
   ]
  },
  {
   "cell_type": "markdown",
   "metadata": {},
   "source": [
    "## Plot model predictions"
   ]
  },
  {
   "cell_type": "markdown",
   "metadata": {},
   "source": [
    "#### Choose which direction to plot - confidence or uncertainty? (Comment out what you don't want)"
   ]
  },
  {
   "cell_type": "code",
   "execution_count": 33,
   "metadata": {
    "collapsed": true
   },
   "outputs": [],
   "source": [
    "## CONFIDENCE\n",
    "# decision_dv = 'confidence'\n",
    "# feedback_dv = 'pe'\n",
    "## y lims\n",
    "# dec = [0.5,1]\n",
    "# feed = [-1,1]\n",
    "# inter = [-0.5,0.5]"
   ]
  },
  {
   "cell_type": "code",
   "execution_count": 34,
   "metadata": {
    "collapsed": true
   },
   "outputs": [],
   "source": [
    "## UNCERTAINTY\n",
    "decision_dv = 'uncertainty'\n",
    "feedback_dv = 'pe_inv'\n",
    "## y lims\n",
    "dec = [0,0.5]\n",
    "feed = [0.4,2]\n",
    "inter = [-0.5,0.5]\n",
    "yticksfeed = [0.4,0.8,1.2,1.6,2]\n",
    "# xlims\n",
    "xdiff = [0,0.5]\n",
    "xdifflabels = ['Hard','Easy']"
   ]
  },
  {
   "cell_type": "markdown",
   "metadata": {},
   "source": [
    "#### Set number of bins"
   ]
  },
  {
   "cell_type": "code",
   "execution_count": 35,
   "metadata": {
    "collapsed": true
   },
   "outputs": [],
   "source": [
    "nbins = 10\n",
    "bin_labels = range(1,nbins+1)"
   ]
  },
  {
   "cell_type": "markdown",
   "metadata": {},
   "source": [
    "#### Group predictions by stimulus/coherence levels and accuracy"
   ]
  },
  {
   "cell_type": "code",
   "execution_count": 36,
   "metadata": {
    "collapsed": false
   },
   "outputs": [],
   "source": [
    "m1_dec = model1.groupby(['ev_levels','correct'])[decision_dv].mean()\n",
    "m2_dec = model2.groupby(['ev_levels','correct'])[decision_dv].mean()\n",
    "\n",
    "m1_feed = model1.groupby(['ev_levels','correct'])[feedback_dv].mean()\n",
    "m2_feed = model2.groupby(['ev_levels','correct'])[feedback_dv].mean()\n",
    "\n",
    "m1_dec = m1_dec.reset_index() # resets indices to accessible columns\n",
    "m2_dec = m2_dec.reset_index()\n",
    "m1_feed = m1_feed.reset_index()\n",
    "m2_feed = m2_feed.reset_index()"
   ]
  },
  {
   "cell_type": "markdown",
   "metadata": {},
   "source": [
    "### Plotting"
   ]
  },
  {
   "cell_type": "markdown",
   "metadata": {},
   "source": [
    "#### Define a figure (2 x 3 panels)"
   ]
  },
  {
   "cell_type": "code",
   "execution_count": 37,
   "metadata": {
    "collapsed": false
   },
   "outputs": [
    {
     "data": {
      "application/javascript": [
       "/* Put everything inside the global mpl namespace */\n",
       "window.mpl = {};\n",
       "\n",
       "\n",
       "mpl.get_websocket_type = function() {\n",
       "    if (typeof(WebSocket) !== 'undefined') {\n",
       "        return WebSocket;\n",
       "    } else if (typeof(MozWebSocket) !== 'undefined') {\n",
       "        return MozWebSocket;\n",
       "    } else {\n",
       "        alert('Your browser does not have WebSocket support.' +\n",
       "              'Please try Chrome, Safari or Firefox ≥ 6. ' +\n",
       "              'Firefox 4 and 5 are also supported but you ' +\n",
       "              'have to enable WebSockets in about:config.');\n",
       "    };\n",
       "}\n",
       "\n",
       "mpl.figure = function(figure_id, websocket, ondownload, parent_element) {\n",
       "    this.id = figure_id;\n",
       "\n",
       "    this.ws = websocket;\n",
       "\n",
       "    this.supports_binary = (this.ws.binaryType != undefined);\n",
       "\n",
       "    if (!this.supports_binary) {\n",
       "        var warnings = document.getElementById(\"mpl-warnings\");\n",
       "        if (warnings) {\n",
       "            warnings.style.display = 'block';\n",
       "            warnings.textContent = (\n",
       "                \"This browser does not support binary websocket messages. \" +\n",
       "                    \"Performance may be slow.\");\n",
       "        }\n",
       "    }\n",
       "\n",
       "    this.imageObj = new Image();\n",
       "\n",
       "    this.context = undefined;\n",
       "    this.message = undefined;\n",
       "    this.canvas = undefined;\n",
       "    this.rubberband_canvas = undefined;\n",
       "    this.rubberband_context = undefined;\n",
       "    this.format_dropdown = undefined;\n",
       "\n",
       "    this.image_mode = 'full';\n",
       "\n",
       "    this.root = $('<div/>');\n",
       "    this._root_extra_style(this.root)\n",
       "    this.root.attr('style', 'display: inline-block');\n",
       "\n",
       "    $(parent_element).append(this.root);\n",
       "\n",
       "    this._init_header(this);\n",
       "    this._init_canvas(this);\n",
       "    this._init_toolbar(this);\n",
       "\n",
       "    var fig = this;\n",
       "\n",
       "    this.waiting = false;\n",
       "\n",
       "    this.ws.onopen =  function () {\n",
       "            fig.send_message(\"supports_binary\", {value: fig.supports_binary});\n",
       "            fig.send_message(\"send_image_mode\", {});\n",
       "            if (mpl.ratio != 1) {\n",
       "                fig.send_message(\"set_dpi_ratio\", {'dpi_ratio': mpl.ratio});\n",
       "            }\n",
       "            fig.send_message(\"refresh\", {});\n",
       "        }\n",
       "\n",
       "    this.imageObj.onload = function() {\n",
       "            if (fig.image_mode == 'full') {\n",
       "                // Full images could contain transparency (where diff images\n",
       "                // almost always do), so we need to clear the canvas so that\n",
       "                // there is no ghosting.\n",
       "                fig.context.clearRect(0, 0, fig.canvas.width, fig.canvas.height);\n",
       "            }\n",
       "            fig.context.drawImage(fig.imageObj, 0, 0);\n",
       "        };\n",
       "\n",
       "    this.imageObj.onunload = function() {\n",
       "        this.ws.close();\n",
       "    }\n",
       "\n",
       "    this.ws.onmessage = this._make_on_message_function(this);\n",
       "\n",
       "    this.ondownload = ondownload;\n",
       "}\n",
       "\n",
       "mpl.figure.prototype._init_header = function() {\n",
       "    var titlebar = $(\n",
       "        '<div class=\"ui-dialog-titlebar ui-widget-header ui-corner-all ' +\n",
       "        'ui-helper-clearfix\"/>');\n",
       "    var titletext = $(\n",
       "        '<div class=\"ui-dialog-title\" style=\"width: 100%; ' +\n",
       "        'text-align: center; padding: 3px;\"/>');\n",
       "    titlebar.append(titletext)\n",
       "    this.root.append(titlebar);\n",
       "    this.header = titletext[0];\n",
       "}\n",
       "\n",
       "\n",
       "\n",
       "mpl.figure.prototype._canvas_extra_style = function(canvas_div) {\n",
       "\n",
       "}\n",
       "\n",
       "\n",
       "mpl.figure.prototype._root_extra_style = function(canvas_div) {\n",
       "\n",
       "}\n",
       "\n",
       "mpl.figure.prototype._init_canvas = function() {\n",
       "    var fig = this;\n",
       "\n",
       "    var canvas_div = $('<div/>');\n",
       "\n",
       "    canvas_div.attr('style', 'position: relative; clear: both; outline: 0');\n",
       "\n",
       "    function canvas_keyboard_event(event) {\n",
       "        return fig.key_event(event, event['data']);\n",
       "    }\n",
       "\n",
       "    canvas_div.keydown('key_press', canvas_keyboard_event);\n",
       "    canvas_div.keyup('key_release', canvas_keyboard_event);\n",
       "    this.canvas_div = canvas_div\n",
       "    this._canvas_extra_style(canvas_div)\n",
       "    this.root.append(canvas_div);\n",
       "\n",
       "    var canvas = $('<canvas/>');\n",
       "    canvas.addClass('mpl-canvas');\n",
       "    canvas.attr('style', \"left: 0; top: 0; z-index: 0; outline: 0\")\n",
       "\n",
       "    this.canvas = canvas[0];\n",
       "    this.context = canvas[0].getContext(\"2d\");\n",
       "\n",
       "    var backingStore = this.context.backingStorePixelRatio ||\n",
       "\tthis.context.webkitBackingStorePixelRatio ||\n",
       "\tthis.context.mozBackingStorePixelRatio ||\n",
       "\tthis.context.msBackingStorePixelRatio ||\n",
       "\tthis.context.oBackingStorePixelRatio ||\n",
       "\tthis.context.backingStorePixelRatio || 1;\n",
       "\n",
       "    mpl.ratio = (window.devicePixelRatio || 1) / backingStore;\n",
       "\n",
       "    var rubberband = $('<canvas/>');\n",
       "    rubberband.attr('style', \"position: absolute; left: 0; top: 0; z-index: 1;\")\n",
       "\n",
       "    var pass_mouse_events = true;\n",
       "\n",
       "    canvas_div.resizable({\n",
       "        start: function(event, ui) {\n",
       "            pass_mouse_events = false;\n",
       "        },\n",
       "        resize: function(event, ui) {\n",
       "            fig.request_resize(ui.size.width, ui.size.height);\n",
       "        },\n",
       "        stop: function(event, ui) {\n",
       "            pass_mouse_events = true;\n",
       "            fig.request_resize(ui.size.width, ui.size.height);\n",
       "        },\n",
       "    });\n",
       "\n",
       "    function mouse_event_fn(event) {\n",
       "        if (pass_mouse_events)\n",
       "            return fig.mouse_event(event, event['data']);\n",
       "    }\n",
       "\n",
       "    rubberband.mousedown('button_press', mouse_event_fn);\n",
       "    rubberband.mouseup('button_release', mouse_event_fn);\n",
       "    // Throttle sequential mouse events to 1 every 20ms.\n",
       "    rubberband.mousemove('motion_notify', mouse_event_fn);\n",
       "\n",
       "    rubberband.mouseenter('figure_enter', mouse_event_fn);\n",
       "    rubberband.mouseleave('figure_leave', mouse_event_fn);\n",
       "\n",
       "    canvas_div.on(\"wheel\", function (event) {\n",
       "        event = event.originalEvent;\n",
       "        event['data'] = 'scroll'\n",
       "        if (event.deltaY < 0) {\n",
       "            event.step = 1;\n",
       "        } else {\n",
       "            event.step = -1;\n",
       "        }\n",
       "        mouse_event_fn(event);\n",
       "    });\n",
       "\n",
       "    canvas_div.append(canvas);\n",
       "    canvas_div.append(rubberband);\n",
       "\n",
       "    this.rubberband = rubberband;\n",
       "    this.rubberband_canvas = rubberband[0];\n",
       "    this.rubberband_context = rubberband[0].getContext(\"2d\");\n",
       "    this.rubberband_context.strokeStyle = \"#000000\";\n",
       "\n",
       "    this._resize_canvas = function(width, height) {\n",
       "        // Keep the size of the canvas, canvas container, and rubber band\n",
       "        // canvas in synch.\n",
       "        canvas_div.css('width', width)\n",
       "        canvas_div.css('height', height)\n",
       "\n",
       "        canvas.attr('width', width * mpl.ratio);\n",
       "        canvas.attr('height', height * mpl.ratio);\n",
       "        canvas.attr('style', 'width: ' + width + 'px; height: ' + height + 'px;');\n",
       "\n",
       "        rubberband.attr('width', width);\n",
       "        rubberband.attr('height', height);\n",
       "    }\n",
       "\n",
       "    // Set the figure to an initial 600x600px, this will subsequently be updated\n",
       "    // upon first draw.\n",
       "    this._resize_canvas(600, 600);\n",
       "\n",
       "    // Disable right mouse context menu.\n",
       "    $(this.rubberband_canvas).bind(\"contextmenu\",function(e){\n",
       "        return false;\n",
       "    });\n",
       "\n",
       "    function set_focus () {\n",
       "        canvas.focus();\n",
       "        canvas_div.focus();\n",
       "    }\n",
       "\n",
       "    window.setTimeout(set_focus, 100);\n",
       "}\n",
       "\n",
       "mpl.figure.prototype._init_toolbar = function() {\n",
       "    var fig = this;\n",
       "\n",
       "    var nav_element = $('<div/>')\n",
       "    nav_element.attr('style', 'width: 100%');\n",
       "    this.root.append(nav_element);\n",
       "\n",
       "    // Define a callback function for later on.\n",
       "    function toolbar_event(event) {\n",
       "        return fig.toolbar_button_onclick(event['data']);\n",
       "    }\n",
       "    function toolbar_mouse_event(event) {\n",
       "        return fig.toolbar_button_onmouseover(event['data']);\n",
       "    }\n",
       "\n",
       "    for(var toolbar_ind in mpl.toolbar_items) {\n",
       "        var name = mpl.toolbar_items[toolbar_ind][0];\n",
       "        var tooltip = mpl.toolbar_items[toolbar_ind][1];\n",
       "        var image = mpl.toolbar_items[toolbar_ind][2];\n",
       "        var method_name = mpl.toolbar_items[toolbar_ind][3];\n",
       "\n",
       "        if (!name) {\n",
       "            // put a spacer in here.\n",
       "            continue;\n",
       "        }\n",
       "        var button = $('<button/>');\n",
       "        button.addClass('ui-button ui-widget ui-state-default ui-corner-all ' +\n",
       "                        'ui-button-icon-only');\n",
       "        button.attr('role', 'button');\n",
       "        button.attr('aria-disabled', 'false');\n",
       "        button.click(method_name, toolbar_event);\n",
       "        button.mouseover(tooltip, toolbar_mouse_event);\n",
       "\n",
       "        var icon_img = $('<span/>');\n",
       "        icon_img.addClass('ui-button-icon-primary ui-icon');\n",
       "        icon_img.addClass(image);\n",
       "        icon_img.addClass('ui-corner-all');\n",
       "\n",
       "        var tooltip_span = $('<span/>');\n",
       "        tooltip_span.addClass('ui-button-text');\n",
       "        tooltip_span.html(tooltip);\n",
       "\n",
       "        button.append(icon_img);\n",
       "        button.append(tooltip_span);\n",
       "\n",
       "        nav_element.append(button);\n",
       "    }\n",
       "\n",
       "    var fmt_picker_span = $('<span/>');\n",
       "\n",
       "    var fmt_picker = $('<select/>');\n",
       "    fmt_picker.addClass('mpl-toolbar-option ui-widget ui-widget-content');\n",
       "    fmt_picker_span.append(fmt_picker);\n",
       "    nav_element.append(fmt_picker_span);\n",
       "    this.format_dropdown = fmt_picker[0];\n",
       "\n",
       "    for (var ind in mpl.extensions) {\n",
       "        var fmt = mpl.extensions[ind];\n",
       "        var option = $(\n",
       "            '<option/>', {selected: fmt === mpl.default_extension}).html(fmt);\n",
       "        fmt_picker.append(option)\n",
       "    }\n",
       "\n",
       "    // Add hover states to the ui-buttons\n",
       "    $( \".ui-button\" ).hover(\n",
       "        function() { $(this).addClass(\"ui-state-hover\");},\n",
       "        function() { $(this).removeClass(\"ui-state-hover\");}\n",
       "    );\n",
       "\n",
       "    var status_bar = $('<span class=\"mpl-message\"/>');\n",
       "    nav_element.append(status_bar);\n",
       "    this.message = status_bar[0];\n",
       "}\n",
       "\n",
       "mpl.figure.prototype.request_resize = function(x_pixels, y_pixels) {\n",
       "    // Request matplotlib to resize the figure. Matplotlib will then trigger a resize in the client,\n",
       "    // which will in turn request a refresh of the image.\n",
       "    this.send_message('resize', {'width': x_pixels, 'height': y_pixels});\n",
       "}\n",
       "\n",
       "mpl.figure.prototype.send_message = function(type, properties) {\n",
       "    properties['type'] = type;\n",
       "    properties['figure_id'] = this.id;\n",
       "    this.ws.send(JSON.stringify(properties));\n",
       "}\n",
       "\n",
       "mpl.figure.prototype.send_draw_message = function() {\n",
       "    if (!this.waiting) {\n",
       "        this.waiting = true;\n",
       "        this.ws.send(JSON.stringify({type: \"draw\", figure_id: this.id}));\n",
       "    }\n",
       "}\n",
       "\n",
       "\n",
       "mpl.figure.prototype.handle_save = function(fig, msg) {\n",
       "    var format_dropdown = fig.format_dropdown;\n",
       "    var format = format_dropdown.options[format_dropdown.selectedIndex].value;\n",
       "    fig.ondownload(fig, format);\n",
       "}\n",
       "\n",
       "\n",
       "mpl.figure.prototype.handle_resize = function(fig, msg) {\n",
       "    var size = msg['size'];\n",
       "    if (size[0] != fig.canvas.width || size[1] != fig.canvas.height) {\n",
       "        fig._resize_canvas(size[0], size[1]);\n",
       "        fig.send_message(\"refresh\", {});\n",
       "    };\n",
       "}\n",
       "\n",
       "mpl.figure.prototype.handle_rubberband = function(fig, msg) {\n",
       "    var x0 = msg['x0'] / mpl.ratio;\n",
       "    var y0 = (fig.canvas.height - msg['y0']) / mpl.ratio;\n",
       "    var x1 = msg['x1'] / mpl.ratio;\n",
       "    var y1 = (fig.canvas.height - msg['y1']) / mpl.ratio;\n",
       "    x0 = Math.floor(x0) + 0.5;\n",
       "    y0 = Math.floor(y0) + 0.5;\n",
       "    x1 = Math.floor(x1) + 0.5;\n",
       "    y1 = Math.floor(y1) + 0.5;\n",
       "    var min_x = Math.min(x0, x1);\n",
       "    var min_y = Math.min(y0, y1);\n",
       "    var width = Math.abs(x1 - x0);\n",
       "    var height = Math.abs(y1 - y0);\n",
       "\n",
       "    fig.rubberband_context.clearRect(\n",
       "        0, 0, fig.canvas.width, fig.canvas.height);\n",
       "\n",
       "    fig.rubberband_context.strokeRect(min_x, min_y, width, height);\n",
       "}\n",
       "\n",
       "mpl.figure.prototype.handle_figure_label = function(fig, msg) {\n",
       "    // Updates the figure title.\n",
       "    fig.header.textContent = msg['label'];\n",
       "}\n",
       "\n",
       "mpl.figure.prototype.handle_cursor = function(fig, msg) {\n",
       "    var cursor = msg['cursor'];\n",
       "    switch(cursor)\n",
       "    {\n",
       "    case 0:\n",
       "        cursor = 'pointer';\n",
       "        break;\n",
       "    case 1:\n",
       "        cursor = 'default';\n",
       "        break;\n",
       "    case 2:\n",
       "        cursor = 'crosshair';\n",
       "        break;\n",
       "    case 3:\n",
       "        cursor = 'move';\n",
       "        break;\n",
       "    }\n",
       "    fig.rubberband_canvas.style.cursor = cursor;\n",
       "}\n",
       "\n",
       "mpl.figure.prototype.handle_message = function(fig, msg) {\n",
       "    fig.message.textContent = msg['message'];\n",
       "}\n",
       "\n",
       "mpl.figure.prototype.handle_draw = function(fig, msg) {\n",
       "    // Request the server to send over a new figure.\n",
       "    fig.send_draw_message();\n",
       "}\n",
       "\n",
       "mpl.figure.prototype.handle_image_mode = function(fig, msg) {\n",
       "    fig.image_mode = msg['mode'];\n",
       "}\n",
       "\n",
       "mpl.figure.prototype.updated_canvas_event = function() {\n",
       "    // Called whenever the canvas gets updated.\n",
       "    this.send_message(\"ack\", {});\n",
       "}\n",
       "\n",
       "// A function to construct a web socket function for onmessage handling.\n",
       "// Called in the figure constructor.\n",
       "mpl.figure.prototype._make_on_message_function = function(fig) {\n",
       "    return function socket_on_message(evt) {\n",
       "        if (evt.data instanceof Blob) {\n",
       "            /* FIXME: We get \"Resource interpreted as Image but\n",
       "             * transferred with MIME type text/plain:\" errors on\n",
       "             * Chrome.  But how to set the MIME type?  It doesn't seem\n",
       "             * to be part of the websocket stream */\n",
       "            evt.data.type = \"image/png\";\n",
       "\n",
       "            /* Free the memory for the previous frames */\n",
       "            if (fig.imageObj.src) {\n",
       "                (window.URL || window.webkitURL).revokeObjectURL(\n",
       "                    fig.imageObj.src);\n",
       "            }\n",
       "\n",
       "            fig.imageObj.src = (window.URL || window.webkitURL).createObjectURL(\n",
       "                evt.data);\n",
       "            fig.updated_canvas_event();\n",
       "            fig.waiting = false;\n",
       "            return;\n",
       "        }\n",
       "        else if (typeof evt.data === 'string' && evt.data.slice(0, 21) == \"data:image/png;base64\") {\n",
       "            fig.imageObj.src = evt.data;\n",
       "            fig.updated_canvas_event();\n",
       "            fig.waiting = false;\n",
       "            return;\n",
       "        }\n",
       "\n",
       "        var msg = JSON.parse(evt.data);\n",
       "        var msg_type = msg['type'];\n",
       "\n",
       "        // Call the  \"handle_{type}\" callback, which takes\n",
       "        // the figure and JSON message as its only arguments.\n",
       "        try {\n",
       "            var callback = fig[\"handle_\" + msg_type];\n",
       "        } catch (e) {\n",
       "            console.log(\"No handler for the '\" + msg_type + \"' message type: \", msg);\n",
       "            return;\n",
       "        }\n",
       "\n",
       "        if (callback) {\n",
       "            try {\n",
       "                // console.log(\"Handling '\" + msg_type + \"' message: \", msg);\n",
       "                callback(fig, msg);\n",
       "            } catch (e) {\n",
       "                console.log(\"Exception inside the 'handler_\" + msg_type + \"' callback:\", e, e.stack, msg);\n",
       "            }\n",
       "        }\n",
       "    };\n",
       "}\n",
       "\n",
       "// from http://stackoverflow.com/questions/1114465/getting-mouse-location-in-canvas\n",
       "mpl.findpos = function(e) {\n",
       "    //this section is from http://www.quirksmode.org/js/events_properties.html\n",
       "    var targ;\n",
       "    if (!e)\n",
       "        e = window.event;\n",
       "    if (e.target)\n",
       "        targ = e.target;\n",
       "    else if (e.srcElement)\n",
       "        targ = e.srcElement;\n",
       "    if (targ.nodeType == 3) // defeat Safari bug\n",
       "        targ = targ.parentNode;\n",
       "\n",
       "    // jQuery normalizes the pageX and pageY\n",
       "    // pageX,Y are the mouse positions relative to the document\n",
       "    // offset() returns the position of the element relative to the document\n",
       "    var x = e.pageX - $(targ).offset().left;\n",
       "    var y = e.pageY - $(targ).offset().top;\n",
       "\n",
       "    return {\"x\": x, \"y\": y};\n",
       "};\n",
       "\n",
       "/*\n",
       " * return a copy of an object with only non-object keys\n",
       " * we need this to avoid circular references\n",
       " * http://stackoverflow.com/a/24161582/3208463\n",
       " */\n",
       "function simpleKeys (original) {\n",
       "  return Object.keys(original).reduce(function (obj, key) {\n",
       "    if (typeof original[key] !== 'object')\n",
       "        obj[key] = original[key]\n",
       "    return obj;\n",
       "  }, {});\n",
       "}\n",
       "\n",
       "mpl.figure.prototype.mouse_event = function(event, name) {\n",
       "    var canvas_pos = mpl.findpos(event)\n",
       "\n",
       "    if (name === 'button_press')\n",
       "    {\n",
       "        this.canvas.focus();\n",
       "        this.canvas_div.focus();\n",
       "    }\n",
       "\n",
       "    var x = canvas_pos.x * mpl.ratio;\n",
       "    var y = canvas_pos.y * mpl.ratio;\n",
       "\n",
       "    this.send_message(name, {x: x, y: y, button: event.button,\n",
       "                             step: event.step,\n",
       "                             guiEvent: simpleKeys(event)});\n",
       "\n",
       "    /* This prevents the web browser from automatically changing to\n",
       "     * the text insertion cursor when the button is pressed.  We want\n",
       "     * to control all of the cursor setting manually through the\n",
       "     * 'cursor' event from matplotlib */\n",
       "    event.preventDefault();\n",
       "    return false;\n",
       "}\n",
       "\n",
       "mpl.figure.prototype._key_event_extra = function(event, name) {\n",
       "    // Handle any extra behaviour associated with a key event\n",
       "}\n",
       "\n",
       "mpl.figure.prototype.key_event = function(event, name) {\n",
       "\n",
       "    // Prevent repeat events\n",
       "    if (name == 'key_press')\n",
       "    {\n",
       "        if (event.which === this._key)\n",
       "            return;\n",
       "        else\n",
       "            this._key = event.which;\n",
       "    }\n",
       "    if (name == 'key_release')\n",
       "        this._key = null;\n",
       "\n",
       "    var value = '';\n",
       "    if (event.ctrlKey && event.which != 17)\n",
       "        value += \"ctrl+\";\n",
       "    if (event.altKey && event.which != 18)\n",
       "        value += \"alt+\";\n",
       "    if (event.shiftKey && event.which != 16)\n",
       "        value += \"shift+\";\n",
       "\n",
       "    value += 'k';\n",
       "    value += event.which.toString();\n",
       "\n",
       "    this._key_event_extra(event, name);\n",
       "\n",
       "    this.send_message(name, {key: value,\n",
       "                             guiEvent: simpleKeys(event)});\n",
       "    return false;\n",
       "}\n",
       "\n",
       "mpl.figure.prototype.toolbar_button_onclick = function(name) {\n",
       "    if (name == 'download') {\n",
       "        this.handle_save(this, null);\n",
       "    } else {\n",
       "        this.send_message(\"toolbar_button\", {name: name});\n",
       "    }\n",
       "};\n",
       "\n",
       "mpl.figure.prototype.toolbar_button_onmouseover = function(tooltip) {\n",
       "    this.message.textContent = tooltip;\n",
       "};\n",
       "mpl.toolbar_items = [[\"Home\", \"Reset original view\", \"fa fa-home icon-home\", \"home\"], [\"Back\", \"Back to  previous view\", \"fa fa-arrow-left icon-arrow-left\", \"back\"], [\"Forward\", \"Forward to next view\", \"fa fa-arrow-right icon-arrow-right\", \"forward\"], [\"\", \"\", \"\", \"\"], [\"Pan\", \"Pan axes with left mouse, zoom with right\", \"fa fa-arrows icon-move\", \"pan\"], [\"Zoom\", \"Zoom to rectangle\", \"fa fa-square-o icon-check-empty\", \"zoom\"], [\"\", \"\", \"\", \"\"], [\"Download\", \"Download plot\", \"fa fa-floppy-o icon-save\", \"download\"]];\n",
       "\n",
       "mpl.extensions = [\"eps\", \"jpeg\", \"pdf\", \"png\", \"ps\", \"raw\", \"svg\", \"tif\"];\n",
       "\n",
       "mpl.default_extension = \"png\";var comm_websocket_adapter = function(comm) {\n",
       "    // Create a \"websocket\"-like object which calls the given IPython comm\n",
       "    // object with the appropriate methods. Currently this is a non binary\n",
       "    // socket, so there is still some room for performance tuning.\n",
       "    var ws = {};\n",
       "\n",
       "    ws.close = function() {\n",
       "        comm.close()\n",
       "    };\n",
       "    ws.send = function(m) {\n",
       "        //console.log('sending', m);\n",
       "        comm.send(m);\n",
       "    };\n",
       "    // Register the callback with on_msg.\n",
       "    comm.on_msg(function(msg) {\n",
       "        //console.log('receiving', msg['content']['data'], msg);\n",
       "        // Pass the mpl event to the overriden (by mpl) onmessage function.\n",
       "        ws.onmessage(msg['content']['data'])\n",
       "    });\n",
       "    return ws;\n",
       "}\n",
       "\n",
       "mpl.mpl_figure_comm = function(comm, msg) {\n",
       "    // This is the function which gets called when the mpl process\n",
       "    // starts-up an IPython Comm through the \"matplotlib\" channel.\n",
       "\n",
       "    var id = msg.content.data.id;\n",
       "    // Get hold of the div created by the display call when the Comm\n",
       "    // socket was opened in Python.\n",
       "    var element = $(\"#\" + id);\n",
       "    var ws_proxy = comm_websocket_adapter(comm)\n",
       "\n",
       "    function ondownload(figure, format) {\n",
       "        window.open(figure.imageObj.src);\n",
       "    }\n",
       "\n",
       "    var fig = new mpl.figure(id, ws_proxy,\n",
       "                           ondownload,\n",
       "                           element.get(0));\n",
       "\n",
       "    // Call onopen now - mpl needs it, as it is assuming we've passed it a real\n",
       "    // web socket which is closed, not our websocket->open comm proxy.\n",
       "    ws_proxy.onopen();\n",
       "\n",
       "    fig.parent_element = element.get(0);\n",
       "    fig.cell_info = mpl.find_output_cell(\"<div id='\" + id + \"'></div>\");\n",
       "    if (!fig.cell_info) {\n",
       "        console.error(\"Failed to find cell for figure\", id, fig);\n",
       "        return;\n",
       "    }\n",
       "\n",
       "    var output_index = fig.cell_info[2]\n",
       "    var cell = fig.cell_info[0];\n",
       "\n",
       "};\n",
       "\n",
       "mpl.figure.prototype.handle_close = function(fig, msg) {\n",
       "    var width = fig.canvas.width/mpl.ratio\n",
       "    fig.root.unbind('remove')\n",
       "\n",
       "    // Update the output cell to use the data from the current canvas.\n",
       "    fig.push_to_output();\n",
       "    var dataURL = fig.canvas.toDataURL();\n",
       "    // Re-enable the keyboard manager in IPython - without this line, in FF,\n",
       "    // the notebook keyboard shortcuts fail.\n",
       "    IPython.keyboard_manager.enable()\n",
       "    $(fig.parent_element).html('<img src=\"' + dataURL + '\" width=\"' + width + '\">');\n",
       "    fig.close_ws(fig, msg);\n",
       "}\n",
       "\n",
       "mpl.figure.prototype.close_ws = function(fig, msg){\n",
       "    fig.send_message('closing', msg);\n",
       "    // fig.ws.close()\n",
       "}\n",
       "\n",
       "mpl.figure.prototype.push_to_output = function(remove_interactive) {\n",
       "    // Turn the data on the canvas into data in the output cell.\n",
       "    var width = this.canvas.width/mpl.ratio\n",
       "    var dataURL = this.canvas.toDataURL();\n",
       "    this.cell_info[1]['text/html'] = '<img src=\"' + dataURL + '\" width=\"' + width + '\">';\n",
       "}\n",
       "\n",
       "mpl.figure.prototype.updated_canvas_event = function() {\n",
       "    // Tell IPython that the notebook contents must change.\n",
       "    IPython.notebook.set_dirty(true);\n",
       "    this.send_message(\"ack\", {});\n",
       "    var fig = this;\n",
       "    // Wait a second, then push the new image to the DOM so\n",
       "    // that it is saved nicely (might be nice to debounce this).\n",
       "    setTimeout(function () { fig.push_to_output() }, 1000);\n",
       "}\n",
       "\n",
       "mpl.figure.prototype._init_toolbar = function() {\n",
       "    var fig = this;\n",
       "\n",
       "    var nav_element = $('<div/>')\n",
       "    nav_element.attr('style', 'width: 100%');\n",
       "    this.root.append(nav_element);\n",
       "\n",
       "    // Define a callback function for later on.\n",
       "    function toolbar_event(event) {\n",
       "        return fig.toolbar_button_onclick(event['data']);\n",
       "    }\n",
       "    function toolbar_mouse_event(event) {\n",
       "        return fig.toolbar_button_onmouseover(event['data']);\n",
       "    }\n",
       "\n",
       "    for(var toolbar_ind in mpl.toolbar_items){\n",
       "        var name = mpl.toolbar_items[toolbar_ind][0];\n",
       "        var tooltip = mpl.toolbar_items[toolbar_ind][1];\n",
       "        var image = mpl.toolbar_items[toolbar_ind][2];\n",
       "        var method_name = mpl.toolbar_items[toolbar_ind][3];\n",
       "\n",
       "        if (!name) { continue; };\n",
       "\n",
       "        var button = $('<button class=\"btn btn-default\" href=\"#\" title=\"' + name + '\"><i class=\"fa ' + image + ' fa-lg\"></i></button>');\n",
       "        button.click(method_name, toolbar_event);\n",
       "        button.mouseover(tooltip, toolbar_mouse_event);\n",
       "        nav_element.append(button);\n",
       "    }\n",
       "\n",
       "    // Add the status bar.\n",
       "    var status_bar = $('<span class=\"mpl-message\" style=\"text-align:right; float: right;\"/>');\n",
       "    nav_element.append(status_bar);\n",
       "    this.message = status_bar[0];\n",
       "\n",
       "    // Add the close button to the window.\n",
       "    var buttongrp = $('<div class=\"btn-group inline pull-right\"></div>');\n",
       "    var button = $('<button class=\"btn btn-mini btn-primary\" href=\"#\" title=\"Stop Interaction\"><i class=\"fa fa-power-off icon-remove icon-large\"></i></button>');\n",
       "    button.click(function (evt) { fig.handle_close(fig, {}); } );\n",
       "    button.mouseover('Stop Interaction', toolbar_mouse_event);\n",
       "    buttongrp.append(button);\n",
       "    var titlebar = this.root.find($('.ui-dialog-titlebar'));\n",
       "    titlebar.prepend(buttongrp);\n",
       "}\n",
       "\n",
       "mpl.figure.prototype._root_extra_style = function(el){\n",
       "    var fig = this\n",
       "    el.on(\"remove\", function(){\n",
       "\tfig.close_ws(fig, {});\n",
       "    });\n",
       "}\n",
       "\n",
       "mpl.figure.prototype._canvas_extra_style = function(el){\n",
       "    // this is important to make the div 'focusable\n",
       "    el.attr('tabindex', 0)\n",
       "    // reach out to IPython and tell the keyboard manager to turn it's self\n",
       "    // off when our div gets focus\n",
       "\n",
       "    // location in version 3\n",
       "    if (IPython.notebook.keyboard_manager) {\n",
       "        IPython.notebook.keyboard_manager.register_events(el);\n",
       "    }\n",
       "    else {\n",
       "        // location in version 2\n",
       "        IPython.keyboard_manager.register_events(el);\n",
       "    }\n",
       "\n",
       "}\n",
       "\n",
       "mpl.figure.prototype._key_event_extra = function(event, name) {\n",
       "    var manager = IPython.notebook.keyboard_manager;\n",
       "    if (!manager)\n",
       "        manager = IPython.keyboard_manager;\n",
       "\n",
       "    // Check for shift+enter\n",
       "    if (event.shiftKey && event.which == 13) {\n",
       "        this.canvas_div.blur();\n",
       "        // select the cell after this one\n",
       "        var index = IPython.notebook.find_cell_index(this.cell_info[0]);\n",
       "        IPython.notebook.select(index + 1);\n",
       "    }\n",
       "}\n",
       "\n",
       "mpl.figure.prototype.handle_save = function(fig, msg) {\n",
       "    fig.ondownload(fig, null);\n",
       "}\n",
       "\n",
       "\n",
       "mpl.find_output_cell = function(html_output) {\n",
       "    // Return the cell and output element which can be found *uniquely* in the notebook.\n",
       "    // Note - this is a bit hacky, but it is done because the \"notebook_saving.Notebook\"\n",
       "    // IPython event is triggered only after the cells have been serialised, which for\n",
       "    // our purposes (turning an active figure into a static one), is too late.\n",
       "    var cells = IPython.notebook.get_cells();\n",
       "    var ncells = cells.length;\n",
       "    for (var i=0; i<ncells; i++) {\n",
       "        var cell = cells[i];\n",
       "        if (cell.cell_type === 'code'){\n",
       "            for (var j=0; j<cell.output_area.outputs.length; j++) {\n",
       "                var data = cell.output_area.outputs[j];\n",
       "                if (data.data) {\n",
       "                    // IPython >= 3 moved mimebundle to data attribute of output\n",
       "                    data = data.data;\n",
       "                }\n",
       "                if (data['text/html'] == html_output) {\n",
       "                    return [cell, data, j];\n",
       "                }\n",
       "            }\n",
       "        }\n",
       "    }\n",
       "}\n",
       "\n",
       "// Register the function which deals with the matplotlib target/channel.\n",
       "// The kernel may be null if the page has been refreshed.\n",
       "if (IPython.notebook.kernel != null) {\n",
       "    IPython.notebook.kernel.comm_manager.register_target('matplotlib', mpl.mpl_figure_comm);\n",
       "}\n"
      ],
      "text/plain": [
       "<IPython.core.display.Javascript object>"
      ]
     },
     "metadata": {},
     "output_type": "display_data"
    },
    {
     "data": {
      "text/html": [
       "<img src=\"data:image/png;base64,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\" width=\"600\">"
      ],
      "text/plain": [
       "<IPython.core.display.HTML object>"
      ]
     },
     "metadata": {},
     "output_type": "display_data"
    }
   ],
   "source": [
    "fig = plt.figure(figsize=(6,4))\n",
    "        \n",
    "# for interaction plots\n",
    "ind = [0.3,0.5]\n",
    "xlim = [0.275,0.575]\n",
    "\n",
    "# get xlabels and color scheme for two conditions\n",
    "ls = 'interact' # corresponding to lines\n",
    "leg_label = ['Decision','Feedback']\n",
    "colors = ['blue','purple']\n",
    "alphas = [1,1]\n",
    "xticklabels = ['Decision','Feedback'] # for interaction"
   ]
  },
  {
   "cell_type": "markdown",
   "metadata": {},
   "source": [
    "#### Belief State Model - Decision interval (subplot 1)"
   ]
  },
  {
   "cell_type": "code",
   "execution_count": 38,
   "metadata": {
    "collapsed": false
   },
   "outputs": [
    {
     "data": {
      "text/plain": [
       "<matplotlib.text.Text at 0x11d8cc5f8>"
      ]
     },
     "execution_count": 38,
     "metadata": {},
     "output_type": "execute_result"
    }
   ],
   "source": [
    "ax = fig.add_subplot(231)\n",
    "        \n",
    "# Make equal size bins for the error trials (correct==False)\n",
    "# Average coherence and confidence in each bin\n",
    "valuelist = [False]\n",
    "F = m1_dec[m1_dec.correct.isin(valuelist)] # ev_levels that have errors\n",
    "valueList = np.array(F['ev_levels'])\n",
    "T =  m1_dec[m1_dec['correct']] # only true values\n",
    "T = T[T.ev_levels.isin(valueList)] # get only those ev_levels that are in m1_dec_F\n",
    "\n",
    "F = F.reset_index() \n",
    "T = T.reset_index() \n",
    "\n",
    "# Error\n",
    "bins_F = pd.qcut(F['ev_levels'], nbins, labels=bin_labels, retbins=True) \n",
    "F['bins'] = np.array(bins_F[0]) # tupel, get first element out\n",
    "F_binned = F.groupby(['bins'])['ev_levels', decision_dv].mean()\n",
    "\n",
    "# Correct\n",
    "bins_T = pd.qcut(T['ev_levels'], nbins, labels=bin_labels, retbins=True) \n",
    "T['bins'] = np.array(bins_T[0]) # tupel, get first element out\n",
    "T_binned = T.groupby(['bins'])['ev_levels', decision_dv].mean()\n",
    "\n",
    "# Save for interaction plot\n",
    "easy_error_dec = F_binned.iloc[-1,-1] # last level, confidence/pe\n",
    "hard_error_dec = F_binned.iloc[0,-1] # first level, confidence/pe\n",
    "easy_correct_dec = T_binned.iloc[-1,-1] # last level, confidence/pe\n",
    "hard_correct_dec = T_binned.iloc[0,-1] # first level, confidence/pe\n",
    "\n",
    "### LINE GRAPH ###        \n",
    "ax.plot(T_binned['ev_levels'],T_binned[decision_dv], label='Correct', color='green', alpha=1)\n",
    "ax.plot(F_binned['ev_levels'],F_binned[decision_dv], label='Error', color='red', alpha=1)\n",
    "\n",
    "# Subplot parameters\n",
    "ax.set_ylim(dec)\n",
    "ax.set_xticks(xdiff)\n",
    "ax.set_xticklabels(xdifflabels)\n",
    "ax.legend(loc='best', fontsize=4)\n",
    "ax.set_ylabel('Decision uncertainty\\n(1 - confidence)')\n",
    "ax.set_xlabel('Motion coherence')\n",
    "ax.set_title('Belief State Model')\n"
   ]
  },
  {
   "cell_type": "markdown",
   "metadata": {},
   "source": [
    "#### Belief State Model - Feedback interval (subplot 2)"
   ]
  },
  {
   "cell_type": "code",
   "execution_count": 39,
   "metadata": {
    "collapsed": false
   },
   "outputs": [
    {
     "data": {
      "text/plain": [
       "<matplotlib.text.Text at 0x1150b9080>"
      ]
     },
     "execution_count": 39,
     "metadata": {},
     "output_type": "execute_result"
    }
   ],
   "source": [
    "ax = fig.add_subplot(232)\n",
    "\n",
    "# Make equal size bins for the error trials (correct==False)\n",
    "# Average coherence and confidence in each bin\n",
    "valuelist = [False]\n",
    "F = m1_feed[m1_feed.correct.isin(valuelist)] # ev_levels that have errors\n",
    "valueList = np.array(F['ev_levels'])\n",
    "T =  m1_feed[m1_feed['correct']] # only true values\n",
    "T = T[T.ev_levels.isin(valueList)] # get only those ev_levels that are in m1_dec_F\n",
    "\n",
    "F = F.reset_index() \n",
    "T = T.reset_index() \n",
    "\n",
    "# Error\n",
    "bins_F = pd.qcut(F['ev_levels'], nbins, labels=bin_labels, retbins=True) \n",
    "F['bins'] = np.array(bins_F[0]) # tupel, get first element out\n",
    "F_binned = F.groupby(['bins'])['ev_levels', feedback_dv].mean()\n",
    "\n",
    "# Correct\n",
    "bins_T = pd.qcut(T['ev_levels'], nbins, labels=bin_labels, retbins=True) \n",
    "T['bins'] = np.array(bins_T[0]) # tupel, get first element out\n",
    "T_binned = T.groupby(['bins'])['ev_levels', feedback_dv].mean()\n",
    "\n",
    "# save for interaction plot\n",
    "easy_error_feed = F_binned.iloc[-1,-1] # last level, confidence/pe\n",
    "hard_error_feed = F_binned.iloc[0,-1] # first level, confidence/pe\n",
    "easy_correct_feed = T_binned.iloc[-1,-1] # last level, confidence/pe\n",
    "hard_correct_feed = T_binned.iloc[0,-1] # first level, confidence/pe\n",
    "\n",
    "### LINE GRAPH ###        \n",
    "ax.plot(T_binned['ev_levels'],T_binned[feedback_dv], label='Correct', color='green', alpha=1)\n",
    "ax.plot(F_binned['ev_levels'],F_binned[feedback_dv], label='Error', color='red', alpha=1)\n",
    "\n",
    "# Subplot parameters\n",
    "ax.set_xticks(xdiff)\n",
    "ax.set_ylim(feed)\n",
    "ax.set_yticks(yticksfeed)\n",
    "ax.set_xticklabels(xdifflabels)\n",
    "ax.legend(loc='best', fontsize=4)\n",
    "ax.set_ylabel('Prediction error\\n1 - (feedback - confidence)')\n",
    "ax.set_xlabel('Motion coherence')\n",
    "ax.set_title('Belief State Model')"
   ]
  },
  {
   "cell_type": "markdown",
   "metadata": {},
   "source": [
    "#### Belief State Model - Interaction (subplot 3)"
   ]
  },
  {
   "cell_type": "code",
   "execution_count": 40,
   "metadata": {
    "collapsed": false
   },
   "outputs": [
    {
     "data": {
      "text/plain": [
       "<matplotlib.lines.Line2D at 0x1151556a0>"
      ]
     },
     "execution_count": 40,
     "metadata": {},
     "output_type": "execute_result"
    }
   ],
   "source": [
    "ax = fig.add_subplot(233)\n",
    "ax.axhline(0, lw=1, alpha=1, color = 'k') # Add horizontal line at t=0    \n",
    "\n",
    "easy_error_dec = np.round(easy_error_dec,2) # round to 2 decimal places\n",
    "hard_error_dec = np.round(hard_error_dec,2)\n",
    "easy_correct_dec = np.round(easy_correct_dec,2)\n",
    "hard_correct_dec = np.round(hard_correct_dec,2)\n",
    "\n",
    "easy_error_feed = np.round(easy_error_feed,2)\n",
    "hard_error_feed = np.round(hard_error_feed,2)\n",
    "easy_correct_feed = np.round(easy_correct_feed,2)\n",
    "hard_correct_feed = np.round(hard_correct_feed,2)\n",
    "\n",
    "interaction_decision = (easy_error_dec - easy_correct_dec) - (hard_error_dec - hard_correct_dec)\n",
    "interaction_feed = (easy_error_feed - easy_correct_feed) - (hard_error_feed - hard_correct_feed)\n",
    "\n",
    "MEANS = [interaction_decision,interaction_feed]\n",
    "\n",
    "for x,m in enumerate(MEANS):\n",
    "    ax.plot(ind[x],MEANS[x], marker='o', color=colors[x], label=leg_label[x], alpha=alphas[x])\n",
    "\n",
    "# Subplot parameters\n",
    "ax.set_xticks(ind)\n",
    "ax.set_ylim(inter)\n",
    "ax.set_xticklabels(xticklabels)\n",
    "ax.legend([])\n",
    "ax.set_ylabel('Interaction term')\n",
    "ax.set_title('Belief State Model')"
   ]
  },
  {
   "cell_type": "markdown",
   "metadata": {},
   "source": [
    "#### Traditional Model - Decision interval (subplot 4)"
   ]
  },
  {
   "cell_type": "code",
   "execution_count": 41,
   "metadata": {
    "collapsed": false
   },
   "outputs": [
    {
     "data": {
      "text/plain": [
       "<matplotlib.text.Text at 0x1151b8c88>"
      ]
     },
     "execution_count": 41,
     "metadata": {},
     "output_type": "execute_result"
    }
   ],
   "source": [
    "ax = fig.add_subplot(234)\n",
    "\n",
    "# Make equal size bins for the error trials (correct==False)\n",
    "# Average coherence and confidence in each bin\n",
    "valuelist = [False]\n",
    "F = m2_dec[m2_dec.correct.isin(valuelist)] # ev_levels that have errors\n",
    "valueList = np.array(F['ev_levels'])\n",
    "T =  m2_dec[m2_dec['correct']] # only true values\n",
    "T = T[T.ev_levels.isin(valueList)] # get only those ev_levels that are in m1_dec_F\n",
    "\n",
    "F = F.reset_index() \n",
    "T = T.reset_index() \n",
    "\n",
    "# Error\n",
    "bins_F = pd.qcut(F['ev_levels'], nbins, labels=bin_labels, retbins=True) \n",
    "F['bins'] = np.array(bins_F[0]) # tupel, get first element out\n",
    "F_binned = F.groupby(['bins'])['ev_levels', decision_dv].mean()\n",
    "\n",
    "# Correct\n",
    "bins_T = pd.qcut(T['ev_levels'], nbins, labels=bin_labels, retbins=True) \n",
    "T['bins'] = np.array(bins_T[0]) # tupel, get first element out\n",
    "T_binned = T.groupby(['bins'])['ev_levels', decision_dv].mean()\n",
    "\n",
    "# Save for interaction plot\n",
    "easy_error_dec = F_binned.iloc[-1,-1] # last level, confidence/pe\n",
    "hard_error_dec = F_binned.iloc[0,-1] # first level, confidence/pe\n",
    "easy_correct_dec = T_binned.iloc[-1,-1] # last level, confidence/pe\n",
    "hard_correct_dec = T_binned.iloc[0,-1] # first level, confidence/pe\n",
    "\n",
    "### LINE GRAPH ###        \n",
    "ax.plot(T_binned['ev_levels'],T_binned[decision_dv], label='Correct', color='green', alpha=1)\n",
    "ax.plot(F_binned['ev_levels'],F_binned[decision_dv], label='Error', color='red', alpha=1)\n",
    "\n",
    "# Subplot parameters\n",
    "ax.set_xticks(xdiff)\n",
    "ax.set_ylim(dec)\n",
    "ax.set_xticklabels(xdifflabels)\n",
    "ax.legend(loc='best', fontsize=4)\n",
    "ax.set_ylabel('Decision uncertainty\\n(1 - confidence)')\n",
    "ax.set_xlabel('Motion coherence')\n",
    "ax.set_title('Stimulus State Model')"
   ]
  },
  {
   "cell_type": "markdown",
   "metadata": {},
   "source": [
    "#### Traditional Model - Feedback interval (subplot 5)"
   ]
  },
  {
   "cell_type": "code",
   "execution_count": 42,
   "metadata": {
    "collapsed": false
   },
   "outputs": [
    {
     "data": {
      "text/plain": [
       "<matplotlib.text.Text at 0x115216f28>"
      ]
     },
     "execution_count": 42,
     "metadata": {},
     "output_type": "execute_result"
    }
   ],
   "source": [
    "ax = fig.add_subplot(235)\n",
    "\n",
    "# Make equal size bins for the error trials (correct==False)\n",
    "# Average coherence and confidence in each bin\n",
    "valuelist = [False]\n",
    "F = m2_feed[m2_feed.correct.isin(valuelist)] # ev_levels that have errors\n",
    "valueList = np.array(F['ev_levels'])\n",
    "T =  m2_feed[m2_feed['correct']] # only true values\n",
    "T = T[T.ev_levels.isin(valueList)] # get only those ev_levels that are in m1_dec_F\n",
    "\n",
    "F = F.reset_index() \n",
    "T = T.reset_index() \n",
    "\n",
    "# Error\n",
    "bins_F = pd.qcut(F['ev_levels'], nbins, labels=bin_labels, retbins=True) \n",
    "F['bins'] = np.array(bins_F[0]) # tupel, get first element out\n",
    "F_binned = F.groupby(['bins'])['ev_levels', feedback_dv].mean()\n",
    "\n",
    "# Correct\n",
    "bins_T = pd.qcut(T['ev_levels'], nbins, labels=bin_labels, retbins=True) \n",
    "T['bins'] = np.array(bins_T[0]) # tupel, get first element out\n",
    "T_binned = T.groupby(['bins'])['ev_levels', feedback_dv].mean()\n",
    "\n",
    "# Save for interaction plot\n",
    "easy_error_feed = F_binned.iloc[-1,-1] # last level, confidence/pe\n",
    "hard_error_feed = F_binned.iloc[0,-1] # first level, confidence/pe\n",
    "easy_correct_feed = T_binned.iloc[-1,-1] # last level, confidence/pe\n",
    "hard_correct_feed = T_binned.iloc[0,-1] # first level, confidence/pe\n",
    "\n",
    "### LINE GRAPH ###        \n",
    "ax.plot(T_binned['ev_levels'],T_binned[feedback_dv], label='Correct', color='green', alpha=1)\n",
    "ax.plot(F_binned['ev_levels'],F_binned[feedback_dv], label='Error', color='red', alpha=1)\n",
    "\n",
    "# Subplot parameters\n",
    "ax.set_xticks(xdiff)\n",
    "ax.set_ylim(feed)\n",
    "ax.set_yticks(yticksfeed)\n",
    "ax.set_xticklabels(xdifflabels)\n",
    "ax.legend(loc='best', fontsize=4)\n",
    "ax.set_ylabel('Prediction error\\n1 - (feedback - confidence)')\n",
    "ax.set_xlabel('Motion coherence')\n",
    "ax.set_title('Stimulus State Model')"
   ]
  },
  {
   "cell_type": "markdown",
   "metadata": {},
   "source": [
    "#### Traditional Model - Interaction (subplot 6)"
   ]
  },
  {
   "cell_type": "code",
   "execution_count": 43,
   "metadata": {
    "collapsed": false
   },
   "outputs": [
    {
     "data": {
      "text/plain": [
       "<matplotlib.lines.Line2D at 0x1152c0278>"
      ]
     },
     "execution_count": 43,
     "metadata": {},
     "output_type": "execute_result"
    }
   ],
   "source": [
    "ax = fig.add_subplot(236)\n",
    "ax.axhline(0, lw=1, alpha=1, color = 'k') # Add horizontal line at t=0\n",
    "\n",
    "easy_error_dec = np.round(easy_error_dec,2)\n",
    "hard_error_dec = np.round(hard_error_dec,2)\n",
    "easy_correct_dec = np.round(easy_correct_dec,2)\n",
    "hard_correct_dec = np.round(hard_correct_dec,2)\n",
    "\n",
    "easy_error_feed = np.round(easy_error_feed,2)\n",
    "hard_error_feed = np.round(hard_error_feed,2)\n",
    "easy_correct_feed = np.round(easy_correct_feed,2)\n",
    "hard_correct_feed = np.round(hard_correct_feed,2)\n",
    "\n",
    "interaction_decision = (easy_error_dec - easy_correct_dec) - (hard_error_dec - hard_correct_dec)\n",
    "interaction_feed = (easy_error_feed - easy_correct_feed) - (hard_error_feed - hard_correct_feed)\n",
    "\n",
    "MEANS = [interaction_decision,interaction_feed]\n",
    "\n",
    "for x,m in enumerate(MEANS):\n",
    "    ax.plot(ind[x],MEANS[x], marker='o', color=colors[x], label=leg_label[x], alpha=alphas[x])\n",
    "\n",
    "# Subplot parameters\n",
    "ax.set_xticks(ind)\n",
    "ax.set_ylim(inter)\n",
    "ax.set_xticklabels(xticklabels)\n",
    "ax.legend([])\n",
    "ax.set_ylabel('Interaction term')\n",
    "ax.set_title('Stimulus State Model')\n"
   ]
  },
  {
   "cell_type": "markdown",
   "metadata": {
    "collapsed": true
   },
   "source": [
    "### Competing Model Predictions"
   ]
  },
  {
   "cell_type": "code",
   "execution_count": 44,
   "metadata": {
    "collapsed": true
   },
   "outputs": [],
   "source": [
    "plt.show()"
   ]
  },
  {
   "cell_type": "markdown",
   "metadata": {},
   "source": [
    "#### Save figure"
   ]
  },
  {
   "cell_type": "code",
   "execution_count": 45,
   "metadata": {
    "collapsed": false
   },
   "outputs": [],
   "source": [
    "sns.despine(offset=10, trim=True)\n",
    "plt.tight_layout()\n",
    "# fig.savefig('model_predictions.pdf')"
   ]
  }
 ],
 "metadata": {
  "kernelspec": {
   "display_name": "Python 3",
   "language": "python",
   "name": "python3"
  },
  "language_info": {
   "codemirror_mode": {
    "name": "ipython",
    "version": 3
   },
   "file_extension": ".py",
   "mimetype": "text/x-python",
   "name": "python",
   "nbconvert_exporter": "python",
   "pygments_lexer": "ipython3",
   "version": "3.6.0"
  }
 },
 "nbformat": 4,
 "nbformat_minor": 2
}
